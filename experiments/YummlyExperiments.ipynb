{
 "cells": [
  {
   "cell_type": "code",
   "execution_count": 106,
   "metadata": {
    "collapsed": false,
    "deletable": true,
    "editable": true
   },
   "outputs": [],
   "source": [
    "import yummly\n",
    "import pandas as pd\n",
    "\n",
    "# default option values\n",
    "TIMEOUT = 15.0\n",
    "RETRIES = 2\n",
    "\n",
    "# Yummly mjboothaus Account: Hackathon Plan - Access granted 24 July 2017\n",
    "\n",
    "API_ID = 'b4f167ed'\n",
    "API_KEY = 'f69184af19beb4b76e7b7b1984046581'\n",
    "\n",
    "client = yummly.Client(api_id=API_ID, api_key=API_KEY, timeout=TIMEOUT, retries=RETRIES)"
   ]
  },
  {
   "cell_type": "code",
   "execution_count": 107,
   "metadata": {
    "collapsed": true,
    "deletable": true,
    "editable": true
   },
   "outputs": [],
   "source": [
    "METADATA_KEYS = [\n",
    "    'ingredient',\n",
    "    'holiday',\n",
    "    'diet',\n",
    "    'allergy',\n",
    "    'technique',\n",
    "    'cuisine',\n",
    "    'course',\n",
    "    'source',\n",
    "    'brand',\n",
    "    'restriction'\n",
    "]"
   ]
  },
  {
   "cell_type": "code",
   "execution_count": null,
   "metadata": {
    "collapsed": false,
    "deletable": true,
    "editable": true
   },
   "outputs": [],
   "source": []
  },
  {
   "cell_type": "code",
   "execution_count": null,
   "metadata": {
    "collapsed": true,
    "deletable": true,
    "editable": true
   },
   "outputs": [],
   "source": []
  },
  {
   "cell_type": "code",
   "execution_count": 108,
   "metadata": {
    "collapsed": true,
    "deletable": true,
    "editable": true
   },
   "outputs": [],
   "source": [
    "metadata = {i+1:key for i, key in enumerate(METADATA_KEYS)}"
   ]
  },
  {
   "cell_type": "code",
   "execution_count": 109,
   "metadata": {
    "collapsed": true,
    "deletable": true,
    "editable": true
   },
   "outputs": [],
   "source": [
    "metadata_rev = dict((v, k) for k, v in metadata.items())"
   ]
  },
  {
   "cell_type": "code",
   "execution_count": 110,
   "metadata": {
    "collapsed": false,
    "deletable": true,
    "editable": true
   },
   "outputs": [
    {
     "data": {
      "text/plain": [
       "{'allergy': 4,\n",
       " 'brand': 9,\n",
       " 'course': 7,\n",
       " 'cuisine': 6,\n",
       " 'diet': 3,\n",
       " 'holiday': 2,\n",
       " 'ingredient': 1,\n",
       " 'restriction': 10,\n",
       " 'source': 8,\n",
       " 'technique': 5}"
      ]
     },
     "execution_count": 110,
     "metadata": {},
     "output_type": "execute_result"
    }
   ],
   "source": [
    "metadata_rev"
   ]
  },
  {
   "cell_type": "code",
   "execution_count": 111,
   "metadata": {
    "collapsed": false,
    "deletable": true,
    "editable": true
   },
   "outputs": [
    {
     "data": {
      "text/plain": [
       "{1: 'ingredient',\n",
       " 2: 'holiday',\n",
       " 3: 'diet',\n",
       " 4: 'allergy',\n",
       " 5: 'technique',\n",
       " 6: 'cuisine',\n",
       " 7: 'course',\n",
       " 8: 'source',\n",
       " 9: 'brand',\n",
       " 10: 'restriction'}"
      ]
     },
     "execution_count": 111,
     "metadata": {},
     "output_type": "execute_result"
    }
   ],
   "source": [
    "metadata"
   ]
  },
  {
   "cell_type": "code",
   "execution_count": 112,
   "metadata": {
    "collapsed": false,
    "deletable": true,
    "editable": true
   },
   "outputs": [
    {
     "data": {
      "text/plain": [
       "'diet'"
      ]
     },
     "execution_count": 112,
     "metadata": {},
     "output_type": "execute_result"
    }
   ],
   "source": [
    "metadata[3]"
   ]
  },
  {
   "cell_type": "code",
   "execution_count": 113,
   "metadata": {
    "collapsed": false,
    "deletable": true,
    "editable": true
   },
   "outputs": [],
   "source": [
    "ingredient_list = client.metadata('ingredient')\n",
    "diet_list = client.metadata('diet')\n",
    "source_list = client.metadata('source')\n",
    "\n",
    "meta = ['']\n",
    "for i in range(1, 10):\n",
    "    meta.append(client.metadata(metadata[i]))"
   ]
  },
  {
   "cell_type": "code",
   "execution_count": 114,
   "metadata": {
    "collapsed": false,
    "deletable": true,
    "editable": true
   },
   "outputs": [
    {
     "name": "stdout",
     "output_type": "stream",
     "text": [
      "ingredient 13383\n",
      "holiday 16\n",
      "diet 6\n",
      "allergy 10\n",
      "technique 24\n",
      "cuisine 26\n",
      "course 13\n",
      "source 77300\n",
      "brand 117\n"
     ]
    }
   ],
   "source": [
    "#NOTE: Something weird with 'restriction' meta type -- need to check API docs\n",
    "\n",
    "meta_dfs = ['']\n",
    "\n",
    "for i in range(1, 10):\n",
    "    print metadata[i], len(meta[i])\n",
    "    meta_dfs.append(pd.DataFrame(meta[i]))"
   ]
  },
  {
   "cell_type": "code",
   "execution_count": 115,
   "metadata": {
    "collapsed": false,
    "deletable": true,
    "editable": true
   },
   "outputs": [
    {
     "name": "stdout",
     "output_type": "stream",
     "text": [
      "[MetaHoliday({'name': u'Christmas', 'searchValue': u'holiday^holiday-christmas', 'id': u'holiday-christmas', 'type': u'holiday', 'localesAvailableIn': [u'en-US'], 'description': u'Christmas'}), MetaHoliday({'name': u'Thanksgiving', 'searchValue': u'holiday^holiday-thanksgiving', 'id': u'holiday-thanksgiving', 'type': u'holiday', 'localesAvailableIn': [u'en-US'], 'description': u'Thanksgiving'})]\n"
     ]
    }
   ],
   "source": [
    "print meta[2][0:2]"
   ]
  },
  {
   "cell_type": "code",
   "execution_count": 116,
   "metadata": {
    "collapsed": false,
    "deletable": true,
    "editable": true
   },
   "outputs": [
    {
     "name": "stdout",
     "output_type": "stream",
     "text": [
      "1: ingredient (13383) -----------------------------------------------\n",
      "  description searchValue    term\n",
      "0        salt        salt    salt\n",
      "1      butter      butter  butter\n",
      "2       sugar       sugar   sugar\n",
      "3      pepper      pepper  pepper\n",
      "2: holiday (16) -----------------------------------------------\n",
      "    description                    id localesAvailableIn          name  \\\n",
      "0     Christmas     holiday-christmas            [en-US]     Christmas   \n",
      "1  Thanksgiving  holiday-thanksgiving            [en-US]  Thanksgiving   \n",
      "2        Summer        holiday-summer            [en-US]        Summer   \n",
      "3          Fall          holiday-fall            [en-US]          Fall   \n",
      "\n",
      "                    searchValue     type  \n",
      "0     holiday^holiday-christmas  holiday  \n",
      "1  holiday^holiday-thanksgiving  holiday  \n",
      "2        holiday^holiday-summer  holiday  \n",
      "3          holiday^holiday-fall  holiday  \n",
      "3: diet (6) -----------------------------------------------\n",
      "    id localesAvailableIn   longDescription           searchValue  \\\n",
      "0  388            [en-US]  Lacto vegetarian  388^Lacto vegetarian   \n",
      "1  389            [en-US]    Ovo vegetarian    389^Ovo vegetarian   \n",
      "2  390            [en-US]       Pescetarian       390^Pescetarian   \n",
      "3  386            [en-US]             Vegan             386^Vegan   \n",
      "\n",
      "   shortDescription  type  \n",
      "0  Lacto vegetarian  diet  \n",
      "1    Ovo vegetarian  diet  \n",
      "2       Pescetarian  diet  \n",
      "3             Vegan  diet  \n",
      "4: allergy (10) -----------------------------------------------\n",
      "    id localesAvailableIn longDescription       searchValue shortDescription  \\\n",
      "0  393            [en-US]     Gluten-Free   393^Gluten-Free      Gluten-Free   \n",
      "1  394            [en-US]     Peanut-Free   394^Peanut-Free      Peanut-Free   \n",
      "2  398            [en-US]    Seafood-Free  398^Seafood-Free     Seafood-Free   \n",
      "3  399            [en-US]     Sesame-Free   399^Sesame-Free      Sesame-Free   \n",
      "\n",
      "      type  \n",
      "0  allergy  \n",
      "1  allergy  \n",
      "2  allergy  \n",
      "3  allergy  \n",
      "5: technique (24) -----------------------------------------------\n",
      "  description                   id localesAvailableIn       name  \\\n",
      "0      Baking     technique-baking            [en-US]     Baking   \n",
      "1    Browning   technique-browning            [en-US]   Browning   \n",
      "2     Boiling    technique-boiling            [en-US]    Boiling   \n",
      "3   Sauteeing  technique-sauteeing            [en-US]  Sauteeing   \n",
      "\n",
      "                     searchValue       type  \n",
      "0     technique^technique-baking  technique  \n",
      "1   technique^technique-browning  technique  \n",
      "2    technique^technique-boiling  technique  \n",
      "3  technique^technique-sauteeing  technique  \n",
      "6: cuisine (26) -----------------------------------------------\n",
      "    description                    id localesAvailableIn          name  \\\n",
      "0      American      cuisine-american            [en-US]      American   \n",
      "1  Kid-Friendly  cuisine-kid-friendly            [en-US]  Kid-Friendly   \n",
      "2       Italian       cuisine-italian            [en-US]       Italian   \n",
      "3         Asian         cuisine-asian            [en-US]         Asian   \n",
      "\n",
      "                    searchValue     type  \n",
      "0      cuisine^cuisine-american  cuisine  \n",
      "1  cuisine^cuisine-kid-friendly  cuisine  \n",
      "2       cuisine^cuisine-italian  cuisine  \n",
      "3         cuisine^cuisine-asian  cuisine  \n",
      "7: course (13) -----------------------------------------------\n",
      "   description                  id localesAvailableIn         name  \\\n",
      "0  Main Dishes  course-Main Dishes            [en-US]  Main Dishes   \n",
      "1     Desserts     course-Desserts            [en-US]     Desserts   \n",
      "2  Side Dishes  course-Side Dishes            [en-US]  Side Dishes   \n",
      "3   Appetizers   course-Appetizers            [en-US]   Appetizers   \n",
      "\n",
      "                 searchValue    type  \n",
      "0  course^course-Main Dishes  course  \n",
      "1     course^course-Desserts  course  \n",
      "2  course^course-Side Dishes  course  \n",
      "3   course^course-Appetizers  course  \n",
      "8: source (77300) -----------------------------------------------\n",
      "              description faviconUrl             searchValue\n",
      "0    A Southern Discourse       None    A Southern Discourse\n",
      "1             iinfo.co.in       None             iinfo.co.in\n",
      "2     daloglunakliyat.com       None     daloglunakliyat.com\n",
      "3  Going Vegan For Health       None  Going Vegan For Health\n",
      "9: brand (117) -----------------------------------------------\n",
      "  description                                         faviconUrl searchValue\n",
      "0     Perdue®                                               None      perdue\n",
      "1   Starbucks  http://yummly-static.s3.amazonaws.com/favicon/...   starbucks\n",
      "2    Knorr DE  http://yummly-static.s3.amazonaws.com/favicon/...     knorrde\n",
      "3   Hertog NL  http://yummly-static.s3.amazonaws.com/favicon/...      hertog\n"
     ]
    }
   ],
   "source": [
    "for i in range(1, 10):\n",
    "    print str(i) + ': ' + metadata[i] + ' (' + str(len(meta[i])) + ') -----------------------------------------------'\n",
    "    print meta_dfs[i].head(min(4, len(meta[i])))\n",
    "    # print '--------------------------------------------------------------------'"
   ]
  },
  {
   "cell_type": "code",
   "execution_count": 117,
   "metadata": {
    "collapsed": false,
    "deletable": true,
    "editable": true
   },
   "outputs": [],
   "source": [
    "#type(ingredient_list)"
   ]
  },
  {
   "cell_type": "code",
   "execution_count": 118,
   "metadata": {
    "collapsed": false,
    "deletable": true,
    "editable": true
   },
   "outputs": [],
   "source": [
    "ingredients = pd.DataFrame(ingredient_list)"
   ]
  },
  {
   "cell_type": "code",
   "execution_count": 119,
   "metadata": {
    "collapsed": false,
    "deletable": true,
    "editable": true
   },
   "outputs": [
    {
     "data": {
      "text/plain": [
       "'ingredient'"
      ]
     },
     "execution_count": 119,
     "metadata": {},
     "output_type": "execute_result"
    }
   ],
   "source": [
    "metadata[metadata_rev['ingredient']]"
   ]
  },
  {
   "cell_type": "code",
   "execution_count": 120,
   "metadata": {
    "collapsed": false,
    "deletable": true,
    "editable": true
   },
   "outputs": [
    {
     "data": {
      "text/html": [
       "<div>\n",
       "<style>\n",
       "    .dataframe thead tr:only-child th {\n",
       "        text-align: right;\n",
       "    }\n",
       "\n",
       "    .dataframe thead th {\n",
       "        text-align: left;\n",
       "    }\n",
       "\n",
       "    .dataframe tbody tr th {\n",
       "        vertical-align: top;\n",
       "    }\n",
       "</style>\n",
       "<table border=\"1\" class=\"dataframe\">\n",
       "  <thead>\n",
       "    <tr style=\"text-align: right;\">\n",
       "      <th></th>\n",
       "      <th>description</th>\n",
       "      <th>searchValue</th>\n",
       "      <th>term</th>\n",
       "    </tr>\n",
       "  </thead>\n",
       "  <tbody>\n",
       "    <tr>\n",
       "      <th>0</th>\n",
       "      <td>salt</td>\n",
       "      <td>salt</td>\n",
       "      <td>salt</td>\n",
       "    </tr>\n",
       "    <tr>\n",
       "      <th>1</th>\n",
       "      <td>butter</td>\n",
       "      <td>butter</td>\n",
       "      <td>butter</td>\n",
       "    </tr>\n",
       "    <tr>\n",
       "      <th>2</th>\n",
       "      <td>sugar</td>\n",
       "      <td>sugar</td>\n",
       "      <td>sugar</td>\n",
       "    </tr>\n",
       "    <tr>\n",
       "      <th>3</th>\n",
       "      <td>pepper</td>\n",
       "      <td>pepper</td>\n",
       "      <td>pepper</td>\n",
       "    </tr>\n",
       "    <tr>\n",
       "      <th>4</th>\n",
       "      <td>eggs</td>\n",
       "      <td>eggs</td>\n",
       "      <td>eggs</td>\n",
       "    </tr>\n",
       "  </tbody>\n",
       "</table>\n",
       "</div>"
      ],
      "text/plain": [
       "  description searchValue    term\n",
       "0        salt        salt    salt\n",
       "1      butter      butter  butter\n",
       "2       sugar       sugar   sugar\n",
       "3      pepper      pepper  pepper\n",
       "4        eggs        eggs    eggs"
      ]
     },
     "execution_count": 120,
     "metadata": {},
     "output_type": "execute_result"
    }
   ],
   "source": [
    "ingredients.head(5)"
   ]
  },
  {
   "cell_type": "code",
   "execution_count": 121,
   "metadata": {
    "collapsed": false,
    "deletable": true,
    "editable": true
   },
   "outputs": [],
   "source": [
    "diets = pd.DataFrame(diet_list)"
   ]
  },
  {
   "cell_type": "code",
   "execution_count": 122,
   "metadata": {
    "collapsed": false,
    "deletable": true,
    "editable": true
   },
   "outputs": [
    {
     "data": {
      "text/html": [
       "<div>\n",
       "<style>\n",
       "    .dataframe thead tr:only-child th {\n",
       "        text-align: right;\n",
       "    }\n",
       "\n",
       "    .dataframe thead th {\n",
       "        text-align: left;\n",
       "    }\n",
       "\n",
       "    .dataframe tbody tr th {\n",
       "        vertical-align: top;\n",
       "    }\n",
       "</style>\n",
       "<table border=\"1\" class=\"dataframe\">\n",
       "  <thead>\n",
       "    <tr style=\"text-align: right;\">\n",
       "      <th></th>\n",
       "      <th>id</th>\n",
       "      <th>localesAvailableIn</th>\n",
       "      <th>longDescription</th>\n",
       "      <th>searchValue</th>\n",
       "      <th>shortDescription</th>\n",
       "      <th>type</th>\n",
       "    </tr>\n",
       "  </thead>\n",
       "  <tbody>\n",
       "    <tr>\n",
       "      <th>0</th>\n",
       "      <td>388</td>\n",
       "      <td>[en-US]</td>\n",
       "      <td>Lacto vegetarian</td>\n",
       "      <td>388^Lacto vegetarian</td>\n",
       "      <td>Lacto vegetarian</td>\n",
       "      <td>diet</td>\n",
       "    </tr>\n",
       "    <tr>\n",
       "      <th>1</th>\n",
       "      <td>389</td>\n",
       "      <td>[en-US]</td>\n",
       "      <td>Ovo vegetarian</td>\n",
       "      <td>389^Ovo vegetarian</td>\n",
       "      <td>Ovo vegetarian</td>\n",
       "      <td>diet</td>\n",
       "    </tr>\n",
       "    <tr>\n",
       "      <th>2</th>\n",
       "      <td>390</td>\n",
       "      <td>[en-US]</td>\n",
       "      <td>Pescetarian</td>\n",
       "      <td>390^Pescetarian</td>\n",
       "      <td>Pescetarian</td>\n",
       "      <td>diet</td>\n",
       "    </tr>\n",
       "    <tr>\n",
       "      <th>3</th>\n",
       "      <td>386</td>\n",
       "      <td>[en-US]</td>\n",
       "      <td>Vegan</td>\n",
       "      <td>386^Vegan</td>\n",
       "      <td>Vegan</td>\n",
       "      <td>diet</td>\n",
       "    </tr>\n",
       "    <tr>\n",
       "      <th>4</th>\n",
       "      <td>387</td>\n",
       "      <td>[en-US]</td>\n",
       "      <td>Vegetarian</td>\n",
       "      <td>387^Lacto-ovo vegetarian</td>\n",
       "      <td>Lacto-ovo vegetarian</td>\n",
       "      <td>diet</td>\n",
       "    </tr>\n",
       "    <tr>\n",
       "      <th>5</th>\n",
       "      <td>403</td>\n",
       "      <td>[en-US]</td>\n",
       "      <td>Paleo</td>\n",
       "      <td>403^Paleo</td>\n",
       "      <td>Paleo</td>\n",
       "      <td>diet</td>\n",
       "    </tr>\n",
       "  </tbody>\n",
       "</table>\n",
       "</div>"
      ],
      "text/plain": [
       "    id localesAvailableIn   longDescription               searchValue  \\\n",
       "0  388            [en-US]  Lacto vegetarian      388^Lacto vegetarian   \n",
       "1  389            [en-US]    Ovo vegetarian        389^Ovo vegetarian   \n",
       "2  390            [en-US]       Pescetarian           390^Pescetarian   \n",
       "3  386            [en-US]             Vegan                 386^Vegan   \n",
       "4  387            [en-US]        Vegetarian  387^Lacto-ovo vegetarian   \n",
       "5  403            [en-US]             Paleo                 403^Paleo   \n",
       "\n",
       "       shortDescription  type  \n",
       "0      Lacto vegetarian  diet  \n",
       "1        Ovo vegetarian  diet  \n",
       "2           Pescetarian  diet  \n",
       "3                 Vegan  diet  \n",
       "4  Lacto-ovo vegetarian  diet  \n",
       "5                 Paleo  diet  "
      ]
     },
     "execution_count": 122,
     "metadata": {},
     "output_type": "execute_result"
    }
   ],
   "source": [
    "diets"
   ]
  },
  {
   "cell_type": "code",
   "execution_count": 123,
   "metadata": {
    "collapsed": true
   },
   "outputs": [],
   "source": [
    "search_params = {\n",
    "    'q': '',\n",
    "    'cuisine': 'American',\n",
    "    'maxResult': 100000\n",
    "}"
   ]
  },
  {
   "cell_type": "code",
   "execution_count": 124,
   "metadata": {
    "collapsed": false
   },
   "outputs": [
    {
     "data": {
      "text/plain": [
       "{'cuisine': 'American', 'maxResult': 100000, 'q': ''}"
      ]
     },
     "execution_count": 124,
     "metadata": {},
     "output_type": "execute_result"
    }
   ],
   "source": [
    "search_params"
   ]
  },
  {
   "cell_type": "code",
   "execution_count": 125,
   "metadata": {
    "collapsed": false,
    "deletable": true,
    "editable": true
   },
   "outputs": [
    {
     "ename": "ContentDecodingError",
     "evalue": "('Received response with content-encoding: gzip, but failed to decode it.', error('Error -3 while decompressing: incorrect header check',))",
     "output_type": "error",
     "traceback": [
      "\u001b[0;31m---------------------------------------------------------------------------\u001b[0m",
      "\u001b[0;31mContentDecodingError\u001b[0m                      Traceback (most recent call last)",
      "\u001b[0;32m<ipython-input-125-e72c78698235>\u001b[0m in \u001b[0;36m<module>\u001b[0;34m()\u001b[0m\n\u001b[1;32m      3\u001b[0m \u001b[0;31m#results = client.search(query_str, maxResults=100000)\u001b[0m\u001b[0;34m\u001b[0m\u001b[0;34m\u001b[0m\u001b[0m\n\u001b[1;32m      4\u001b[0m \u001b[0;34m\u001b[0m\u001b[0m\n\u001b[0;32m----> 5\u001b[0;31m \u001b[0mresults\u001b[0m \u001b[0;34m=\u001b[0m \u001b[0mclient\u001b[0m\u001b[0;34m.\u001b[0m\u001b[0msearch\u001b[0m\u001b[0;34m(\u001b[0m\u001b[0;34m**\u001b[0m\u001b[0msearch_params\u001b[0m\u001b[0;34m)\u001b[0m\u001b[0;34m\u001b[0m\u001b[0m\n\u001b[0m\u001b[1;32m      6\u001b[0m \u001b[0;34m\u001b[0m\u001b[0m\n\u001b[1;32m      7\u001b[0m \u001b[0;32mprint\u001b[0m \u001b[0;34m'Total Matches:'\u001b[0m\u001b[0;34m,\u001b[0m \u001b[0mresults\u001b[0m\u001b[0;34m.\u001b[0m\u001b[0mtotalMatchCount\u001b[0m\u001b[0;34m\u001b[0m\u001b[0m\n",
      "\u001b[0;32m/opt/conda/lib/python2.7/site-packages/yummly/client.pyc\u001b[0m in \u001b[0;36msearch\u001b[0;34m(self, q, maxResult, start, **params)\u001b[0m\n\u001b[1;32m    137\u001b[0m         })\n\u001b[1;32m    138\u001b[0m \u001b[0;34m\u001b[0m\u001b[0m\n\u001b[0;32m--> 139\u001b[0;31m         \u001b[0mresponse\u001b[0m \u001b[0;34m=\u001b[0m \u001b[0mself\u001b[0m\u001b[0;34m.\u001b[0m\u001b[0m_request\u001b[0m\u001b[0;34m(\u001b[0m\u001b[0murl\u001b[0m\u001b[0;34m,\u001b[0m \u001b[0mparams\u001b[0m\u001b[0;34m=\u001b[0m\u001b[0mparams\u001b[0m\u001b[0;34m)\u001b[0m\u001b[0;34m\u001b[0m\u001b[0m\n\u001b[0m\u001b[1;32m    140\u001b[0m         \u001b[0mresult\u001b[0m \u001b[0;34m=\u001b[0m \u001b[0mself\u001b[0m\u001b[0;34m.\u001b[0m\u001b[0m_extract_response\u001b[0m\u001b[0;34m(\u001b[0m\u001b[0mresponse\u001b[0m\u001b[0;34m)\u001b[0m\u001b[0;34m\u001b[0m\u001b[0m\n\u001b[1;32m    141\u001b[0m \u001b[0;34m\u001b[0m\u001b[0m\n",
      "\u001b[0;32m/opt/conda/lib/python2.7/site-packages/yummly/client.pyc\u001b[0m in \u001b[0;36mdecorated\u001b[0;34m(self, *args, **kargs)\u001b[0m\n\u001b[1;32m     30\u001b[0m         \u001b[0;32mfor\u001b[0m \u001b[0mretry\u001b[0m \u001b[0;32min\u001b[0m \u001b[0mxrange\u001b[0m\u001b[0;34m(\u001b[0m\u001b[0;36m0\u001b[0m\u001b[0;34m,\u001b[0m \u001b[0mself\u001b[0m\u001b[0;34m.\u001b[0m\u001b[0mretries\u001b[0m \u001b[0;34m+\u001b[0m \u001b[0;36m1\u001b[0m\u001b[0;34m)\u001b[0m\u001b[0;34m:\u001b[0m\u001b[0;34m\u001b[0m\u001b[0m\n\u001b[1;32m     31\u001b[0m             \u001b[0;32mtry\u001b[0m\u001b[0;34m:\u001b[0m\u001b[0;34m\u001b[0m\u001b[0m\n\u001b[0;32m---> 32\u001b[0;31m                 \u001b[0mresponse\u001b[0m \u001b[0;34m=\u001b[0m \u001b[0mfunc\u001b[0m\u001b[0;34m(\u001b[0m\u001b[0mself\u001b[0m\u001b[0;34m,\u001b[0m \u001b[0;34m*\u001b[0m\u001b[0margs\u001b[0m\u001b[0;34m,\u001b[0m \u001b[0;34m**\u001b[0m\u001b[0mkargs\u001b[0m\u001b[0;34m)\u001b[0m\u001b[0;34m\u001b[0m\u001b[0m\n\u001b[0m\u001b[1;32m     33\u001b[0m             \u001b[0;32mexcept\u001b[0m \u001b[0mTimeout\u001b[0m\u001b[0;34m:\u001b[0m\u001b[0;34m\u001b[0m\u001b[0m\n\u001b[1;32m     34\u001b[0m                 \u001b[0;31m# stop retrying after reaching max\u001b[0m\u001b[0;34m\u001b[0m\u001b[0;34m\u001b[0m\u001b[0m\n",
      "\u001b[0;32m/opt/conda/lib/python2.7/site-packages/yummly/client.pyc\u001b[0m in \u001b[0;36m_request\u001b[0;34m(self, url, params)\u001b[0m\n\u001b[1;32m    181\u001b[0m         response = requests.get(url,\n\u001b[1;32m    182\u001b[0m                                 \u001b[0mparams\u001b[0m\u001b[0;34m=\u001b[0m\u001b[0mparams\u001b[0m\u001b[0;34m,\u001b[0m\u001b[0;34m\u001b[0m\u001b[0m\n\u001b[0;32m--> 183\u001b[0;31m                                 \u001b[0mheaders\u001b[0m\u001b[0;34m=\u001b[0m\u001b[0mheaders\u001b[0m\u001b[0;34m,\u001b[0m\u001b[0;34m\u001b[0m\u001b[0m\n\u001b[0m\u001b[1;32m    184\u001b[0m                                 timeout=self.timeout)\n\u001b[1;32m    185\u001b[0m \u001b[0;34m\u001b[0m\u001b[0m\n",
      "\u001b[0;32m/opt/conda/lib/python2.7/site-packages/requests/api.pyc\u001b[0m in \u001b[0;36mget\u001b[0;34m(url, params, **kwargs)\u001b[0m\n\u001b[1;32m     70\u001b[0m \u001b[0;34m\u001b[0m\u001b[0m\n\u001b[1;32m     71\u001b[0m     \u001b[0mkwargs\u001b[0m\u001b[0;34m.\u001b[0m\u001b[0msetdefault\u001b[0m\u001b[0;34m(\u001b[0m\u001b[0;34m'allow_redirects'\u001b[0m\u001b[0;34m,\u001b[0m \u001b[0mTrue\u001b[0m\u001b[0;34m)\u001b[0m\u001b[0;34m\u001b[0m\u001b[0m\n\u001b[0;32m---> 72\u001b[0;31m     \u001b[0;32mreturn\u001b[0m \u001b[0mrequest\u001b[0m\u001b[0;34m(\u001b[0m\u001b[0;34m'get'\u001b[0m\u001b[0;34m,\u001b[0m \u001b[0murl\u001b[0m\u001b[0;34m,\u001b[0m \u001b[0mparams\u001b[0m\u001b[0;34m=\u001b[0m\u001b[0mparams\u001b[0m\u001b[0;34m,\u001b[0m \u001b[0;34m**\u001b[0m\u001b[0mkwargs\u001b[0m\u001b[0;34m)\u001b[0m\u001b[0;34m\u001b[0m\u001b[0m\n\u001b[0m\u001b[1;32m     73\u001b[0m \u001b[0;34m\u001b[0m\u001b[0m\n\u001b[1;32m     74\u001b[0m \u001b[0;34m\u001b[0m\u001b[0m\n",
      "\u001b[0;32m/opt/conda/lib/python2.7/site-packages/requests/api.pyc\u001b[0m in \u001b[0;36mrequest\u001b[0;34m(method, url, **kwargs)\u001b[0m\n\u001b[1;32m     56\u001b[0m     \u001b[0;31m# cases, and look like a memory leak in others.\u001b[0m\u001b[0;34m\u001b[0m\u001b[0;34m\u001b[0m\u001b[0m\n\u001b[1;32m     57\u001b[0m     \u001b[0;32mwith\u001b[0m \u001b[0msessions\u001b[0m\u001b[0;34m.\u001b[0m\u001b[0mSession\u001b[0m\u001b[0;34m(\u001b[0m\u001b[0;34m)\u001b[0m \u001b[0;32mas\u001b[0m \u001b[0msession\u001b[0m\u001b[0;34m:\u001b[0m\u001b[0;34m\u001b[0m\u001b[0m\n\u001b[0;32m---> 58\u001b[0;31m         \u001b[0;32mreturn\u001b[0m \u001b[0msession\u001b[0m\u001b[0;34m.\u001b[0m\u001b[0mrequest\u001b[0m\u001b[0;34m(\u001b[0m\u001b[0mmethod\u001b[0m\u001b[0;34m=\u001b[0m\u001b[0mmethod\u001b[0m\u001b[0;34m,\u001b[0m \u001b[0murl\u001b[0m\u001b[0;34m=\u001b[0m\u001b[0murl\u001b[0m\u001b[0;34m,\u001b[0m \u001b[0;34m**\u001b[0m\u001b[0mkwargs\u001b[0m\u001b[0;34m)\u001b[0m\u001b[0;34m\u001b[0m\u001b[0m\n\u001b[0m\u001b[1;32m     59\u001b[0m \u001b[0;34m\u001b[0m\u001b[0m\n\u001b[1;32m     60\u001b[0m \u001b[0;34m\u001b[0m\u001b[0m\n",
      "\u001b[0;32m/opt/conda/lib/python2.7/site-packages/requests/sessions.pyc\u001b[0m in \u001b[0;36mrequest\u001b[0;34m(self, method, url, params, data, headers, cookies, files, auth, timeout, allow_redirects, proxies, hooks, stream, verify, cert, json)\u001b[0m\n\u001b[1;32m    516\u001b[0m         }\n\u001b[1;32m    517\u001b[0m         \u001b[0msend_kwargs\u001b[0m\u001b[0;34m.\u001b[0m\u001b[0mupdate\u001b[0m\u001b[0;34m(\u001b[0m\u001b[0msettings\u001b[0m\u001b[0;34m)\u001b[0m\u001b[0;34m\u001b[0m\u001b[0m\n\u001b[0;32m--> 518\u001b[0;31m         \u001b[0mresp\u001b[0m \u001b[0;34m=\u001b[0m \u001b[0mself\u001b[0m\u001b[0;34m.\u001b[0m\u001b[0msend\u001b[0m\u001b[0;34m(\u001b[0m\u001b[0mprep\u001b[0m\u001b[0;34m,\u001b[0m \u001b[0;34m**\u001b[0m\u001b[0msend_kwargs\u001b[0m\u001b[0;34m)\u001b[0m\u001b[0;34m\u001b[0m\u001b[0m\n\u001b[0m\u001b[1;32m    519\u001b[0m \u001b[0;34m\u001b[0m\u001b[0m\n\u001b[1;32m    520\u001b[0m         \u001b[0;32mreturn\u001b[0m \u001b[0mresp\u001b[0m\u001b[0;34m\u001b[0m\u001b[0m\n",
      "\u001b[0;32m/opt/conda/lib/python2.7/site-packages/requests/sessions.pyc\u001b[0m in \u001b[0;36msend\u001b[0;34m(self, request, **kwargs)\u001b[0m\n\u001b[1;32m    670\u001b[0m \u001b[0;34m\u001b[0m\u001b[0m\n\u001b[1;32m    671\u001b[0m         \u001b[0;32mif\u001b[0m \u001b[0;32mnot\u001b[0m \u001b[0mstream\u001b[0m\u001b[0;34m:\u001b[0m\u001b[0;34m\u001b[0m\u001b[0m\n\u001b[0;32m--> 672\u001b[0;31m             \u001b[0mr\u001b[0m\u001b[0;34m.\u001b[0m\u001b[0mcontent\u001b[0m\u001b[0;34m\u001b[0m\u001b[0m\n\u001b[0m\u001b[1;32m    673\u001b[0m \u001b[0;34m\u001b[0m\u001b[0m\n\u001b[1;32m    674\u001b[0m         \u001b[0;32mreturn\u001b[0m \u001b[0mr\u001b[0m\u001b[0;34m\u001b[0m\u001b[0m\n",
      "\u001b[0;32m/opt/conda/lib/python2.7/site-packages/requests/models.pyc\u001b[0m in \u001b[0;36mcontent\u001b[0;34m(self)\u001b[0m\n\u001b[1;32m    814\u001b[0m                 \u001b[0mself\u001b[0m\u001b[0;34m.\u001b[0m\u001b[0m_content\u001b[0m \u001b[0;34m=\u001b[0m \u001b[0mNone\u001b[0m\u001b[0;34m\u001b[0m\u001b[0m\n\u001b[1;32m    815\u001b[0m             \u001b[0;32melse\u001b[0m\u001b[0;34m:\u001b[0m\u001b[0;34m\u001b[0m\u001b[0m\n\u001b[0;32m--> 816\u001b[0;31m                 \u001b[0mself\u001b[0m\u001b[0;34m.\u001b[0m\u001b[0m_content\u001b[0m \u001b[0;34m=\u001b[0m \u001b[0mbytes\u001b[0m\u001b[0;34m(\u001b[0m\u001b[0;34m)\u001b[0m\u001b[0;34m.\u001b[0m\u001b[0mjoin\u001b[0m\u001b[0;34m(\u001b[0m\u001b[0mself\u001b[0m\u001b[0;34m.\u001b[0m\u001b[0miter_content\u001b[0m\u001b[0;34m(\u001b[0m\u001b[0mCONTENT_CHUNK_SIZE\u001b[0m\u001b[0;34m)\u001b[0m\u001b[0;34m)\u001b[0m \u001b[0;32mor\u001b[0m \u001b[0mbytes\u001b[0m\u001b[0;34m(\u001b[0m\u001b[0;34m)\u001b[0m\u001b[0;34m\u001b[0m\u001b[0m\n\u001b[0m\u001b[1;32m    817\u001b[0m \u001b[0;34m\u001b[0m\u001b[0m\n\u001b[1;32m    818\u001b[0m         \u001b[0mself\u001b[0m\u001b[0;34m.\u001b[0m\u001b[0m_content_consumed\u001b[0m \u001b[0;34m=\u001b[0m \u001b[0mTrue\u001b[0m\u001b[0;34m\u001b[0m\u001b[0m\n",
      "\u001b[0;32m/opt/conda/lib/python2.7/site-packages/requests/models.pyc\u001b[0m in \u001b[0;36mgenerate\u001b[0;34m()\u001b[0m\n\u001b[1;32m    741\u001b[0m                     \u001b[0;32mraise\u001b[0m \u001b[0mChunkedEncodingError\u001b[0m\u001b[0;34m(\u001b[0m\u001b[0me\u001b[0m\u001b[0;34m)\u001b[0m\u001b[0;34m\u001b[0m\u001b[0m\n\u001b[1;32m    742\u001b[0m                 \u001b[0;32mexcept\u001b[0m \u001b[0mDecodeError\u001b[0m \u001b[0;32mas\u001b[0m \u001b[0me\u001b[0m\u001b[0;34m:\u001b[0m\u001b[0;34m\u001b[0m\u001b[0m\n\u001b[0;32m--> 743\u001b[0;31m                     \u001b[0;32mraise\u001b[0m \u001b[0mContentDecodingError\u001b[0m\u001b[0;34m(\u001b[0m\u001b[0me\u001b[0m\u001b[0;34m)\u001b[0m\u001b[0;34m\u001b[0m\u001b[0m\n\u001b[0m\u001b[1;32m    744\u001b[0m                 \u001b[0;32mexcept\u001b[0m \u001b[0mReadTimeoutError\u001b[0m \u001b[0;32mas\u001b[0m \u001b[0me\u001b[0m\u001b[0;34m:\u001b[0m\u001b[0;34m\u001b[0m\u001b[0m\n\u001b[1;32m    745\u001b[0m                     \u001b[0;32mraise\u001b[0m \u001b[0mConnectionError\u001b[0m\u001b[0;34m(\u001b[0m\u001b[0me\u001b[0m\u001b[0;34m)\u001b[0m\u001b[0;34m\u001b[0m\u001b[0m\n",
      "\u001b[0;31mContentDecodingError\u001b[0m: ('Received response with content-encoding: gzip, but failed to decode it.', error('Error -3 while decompressing: incorrect header check',))"
     ]
    }
   ],
   "source": [
    "# Start to look at recipes\n",
    "\n",
    "#results = client.search(query_str, maxResults=100000)\n",
    "\n",
    "results = client.search(**search_params)\n",
    "\n",
    "print 'Total Matches:', results.totalMatchCount\n",
    "\n",
    "#for match in results.matches:\n",
    "#        print 'Recipe ID:', match.id\n",
    "#        print 'Recipe:', match.recipeName\n",
    "#        print 'Rating:', match.rating\n",
    "#        # print 'Total Time (mins):' + match.TOTAL_TIME_MISSING / 60.0)\n",
    "#        print '----------------------------------------------------'"
   ]
  },
  {
   "cell_type": "code",
   "execution_count": 32,
   "metadata": {
    "collapsed": false,
    "deletable": true,
    "editable": true
   },
   "outputs": [
    {
     "data": {
      "text/plain": [
       "list"
      ]
     },
     "execution_count": 32,
     "metadata": {},
     "output_type": "execute_result"
    }
   ],
   "source": [
    "type(results.matches)"
   ]
  },
  {
   "cell_type": "code",
   "execution_count": 33,
   "metadata": {
    "collapsed": false,
    "deletable": true,
    "editable": true
   },
   "outputs": [
    {
     "data": {
      "text/plain": [
       "40"
      ]
     },
     "execution_count": 33,
     "metadata": {},
     "output_type": "execute_result"
    }
   ],
   "source": [
    "len(results.matches)"
   ]
  },
  {
   "cell_type": "code",
   "execution_count": 34,
   "metadata": {
    "collapsed": false,
    "deletable": true,
    "editable": true
   },
   "outputs": [
    {
     "data": {
      "text/plain": [
       "u'Chicken-marsala-308545'"
      ]
     },
     "execution_count": 34,
     "metadata": {},
     "output_type": "execute_result"
    }
   ],
   "source": [
    "results.matches[0].id"
   ]
  },
  {
   "cell_type": "code",
   "execution_count": null,
   "metadata": {
    "collapsed": true,
    "deletable": true,
    "editable": true
   },
   "outputs": [],
   "source": []
  },
  {
   "cell_type": "code",
   "execution_count": 35,
   "metadata": {
    "collapsed": true,
    "deletable": true,
    "editable": true
   },
   "outputs": [],
   "source": [
    "from time import sleep"
   ]
  },
  {
   "cell_type": "code",
   "execution_count": 36,
   "metadata": {
    "collapsed": false,
    "deletable": true,
    "editable": true
   },
   "outputs": [],
   "source": [
    "recipes = []\n",
    "for match in results.matches:    \n",
    "    this_recipe = []\n",
    "    recipe = client.recipe(match.id)\n",
    "    sleep(1.0)\n",
    "    for ingred in recipe.ingredientLines:\n",
    "        this_recipe.append(ingred)\n",
    "    recipes.append(this_recipe)\n"
   ]
  },
  {
   "cell_type": "code",
   "execution_count": 37,
   "metadata": {
    "collapsed": false,
    "deletable": true,
    "editable": true
   },
   "outputs": [],
   "source": [
    "recipes_df = pd.DataFrame(recipes)"
   ]
  },
  {
   "cell_type": "code",
   "execution_count": 38,
   "metadata": {
    "collapsed": false,
    "deletable": true,
    "editable": true
   },
   "outputs": [
    {
     "data": {
      "text/html": [
       "<div>\n",
       "<style>\n",
       "    .dataframe thead tr:only-child th {\n",
       "        text-align: right;\n",
       "    }\n",
       "\n",
       "    .dataframe thead th {\n",
       "        text-align: left;\n",
       "    }\n",
       "\n",
       "    .dataframe tbody tr th {\n",
       "        vertical-align: top;\n",
       "    }\n",
       "</style>\n",
       "<table border=\"1\" class=\"dataframe\">\n",
       "  <thead>\n",
       "    <tr style=\"text-align: right;\">\n",
       "      <th></th>\n",
       "      <th>0</th>\n",
       "      <th>1</th>\n",
       "      <th>2</th>\n",
       "      <th>3</th>\n",
       "      <th>4</th>\n",
       "      <th>5</th>\n",
       "      <th>6</th>\n",
       "      <th>7</th>\n",
       "      <th>8</th>\n",
       "      <th>9</th>\n",
       "      <th>10</th>\n",
       "      <th>11</th>\n",
       "      <th>12</th>\n",
       "      <th>13</th>\n",
       "      <th>14</th>\n",
       "      <th>15</th>\n",
       "    </tr>\n",
       "  </thead>\n",
       "  <tbody>\n",
       "    <tr>\n",
       "      <th>0</th>\n",
       "      <td>3 large boneless, skinless chicken breasts (ab...</td>\n",
       "      <td>Wondra flour or all-purpose flour, for dusting</td>\n",
       "      <td>2 tablespoons canola oil</td>\n",
       "      <td>2 tablespoons unsalted butter</td>\n",
       "      <td>Kosher salt and freshly ground black pepper</td>\n",
       "      <td>Kosher salt and freshly ground black pepper</td>\n",
       "      <td>1 pound baby bella or button mushrooms, cleane...</td>\n",
       "      <td>3 tablespoons unsalted butter, divided</td>\n",
       "      <td>1 cup dry marsala wine</td>\n",
       "      <td>1 cup warm beef stock, preferably homemade or ...</td>\n",
       "      <td>1 tablespoon tapioca flour, optional for a thi...</td>\n",
       "      <td>Kosher salt and freshly ground black pepper</td>\n",
       "      <td>Kosher salt and freshly ground black pepper</td>\n",
       "      <td>None</td>\n",
       "      <td>None</td>\n",
       "      <td>None</td>\n",
       "    </tr>\n",
       "    <tr>\n",
       "      <th>1</th>\n",
       "      <td>1¼ lb. chicken cutlets, pounded until ¼\" thick...</td>\n",
       "      <td>Kosher salt and freshly ground black pepper, t...</td>\n",
       "      <td>Kosher salt and freshly ground black pepper, t...</td>\n",
       "      <td>⅓ cup plus 1 tbsp. flour</td>\n",
       "      <td>5 tbsp. olive oil</td>\n",
       "      <td>5 tbsp. unsalted butter</td>\n",
       "      <td>8 oz. white button mushrooms</td>\n",
       "      <td>2 tbsp. minced shallots</td>\n",
       "      <td>1 clove garlic, minced</td>\n",
       "      <td>⅓ cup dry Marsala wine</td>\n",
       "      <td>⅓ cup chicken stock</td>\n",
       "      <td>1 tbsp. finely chopped parsley, for garnish (o...</td>\n",
       "      <td>None</td>\n",
       "      <td>None</td>\n",
       "      <td>None</td>\n",
       "      <td>None</td>\n",
       "    </tr>\n",
       "    <tr>\n",
       "      <th>2</th>\n",
       "      <td>1 tablespoon oil</td>\n",
       "      <td>4 small chicken breasts, pounded thin and seas...</td>\n",
       "      <td>1 tablespoon butter</td>\n",
       "      <td>8 ounces mushrooms, sliced</td>\n",
       "      <td>1 medium shallot, finely diced</td>\n",
       "      <td>1 clove garlic, chopped</td>\n",
       "      <td>1/2 cup marsala</td>\n",
       "      <td>1 cup chicken broth</td>\n",
       "      <td>2 tablespoons lemon juice (~1/2 lemon)</td>\n",
       "      <td>salt and pepper to taste</td>\n",
       "      <td>salt and pepper to taste</td>\n",
       "      <td>1 tablespoon butter</td>\n",
       "      <td>1 tablespoon parsley, chopped</td>\n",
       "      <td>None</td>\n",
       "      <td>None</td>\n",
       "      <td>None</td>\n",
       "    </tr>\n",
       "    <tr>\n",
       "      <th>3</th>\n",
       "      <td>4 boneless skinless chicken breasts (about 1 1...</td>\n",
       "      <td>1/2 cup Gold Medal™ all-purpose flour</td>\n",
       "      <td>1/4 teaspoon salt</td>\n",
       "      <td>1/4 teaspoon pepper</td>\n",
       "      <td>2 tablespoons olive or vegetable oil</td>\n",
       "      <td>2 cloves garlic, finely chopped</td>\n",
       "      <td>1 cup sliced fresh mushrooms (3 oz)</td>\n",
       "      <td>1/4 cup chopped fresh parsley or 1 tablespoon ...</td>\n",
       "      <td>1/2 cup dry Marsala wine or Progresso™ chicken...</td>\n",
       "      <td>Hot cooked pasta, if desired</td>\n",
       "      <td>None</td>\n",
       "      <td>None</td>\n",
       "      <td>None</td>\n",
       "      <td>None</td>\n",
       "      <td>None</td>\n",
       "      <td>None</td>\n",
       "    </tr>\n",
       "    <tr>\n",
       "      <th>4</th>\n",
       "      <td>1/4 cup flour</td>\n",
       "      <td>Dash of white pepper</td>\n",
       "      <td>Dash of oregano</td>\n",
       "      <td>Dash of basil</td>\n",
       "      <td>1-1/4 pound boneless chicken breasts</td>\n",
       "      <td>1 tablespoon safflower oil</td>\n",
       "      <td>1 tablespoon butter or margarine</td>\n",
       "      <td>1/2 pound mushrooms, sliced</td>\n",
       "      <td>1 cup marsala wine or dry sherry</td>\n",
       "      <td>None</td>\n",
       "      <td>None</td>\n",
       "      <td>None</td>\n",
       "      <td>None</td>\n",
       "      <td>None</td>\n",
       "      <td>None</td>\n",
       "      <td>None</td>\n",
       "    </tr>\n",
       "    <tr>\n",
       "      <th>5</th>\n",
       "      <td>1 1⁄4 lb. chicken cutlets, pounded until 1⁄4\" ...</td>\n",
       "      <td>Kosher salt and freshly ground black pepper, t...</td>\n",
       "      <td>Kosher salt and freshly ground black pepper, t...</td>\n",
       "      <td>1⁄3 cup plus 1 tbsp. flour</td>\n",
       "      <td>5 tbsp. olive oil</td>\n",
       "      <td>5 tbsp. unsalted butter</td>\n",
       "      <td>8 oz. white button mushrooms</td>\n",
       "      <td>2 tbsp. minced shallots</td>\n",
       "      <td>1 clove garlic, minced</td>\n",
       "      <td>1⁄3 cup dry Marsala wine</td>\n",
       "      <td>1⁄3 cup chicken stock</td>\n",
       "      <td>1 tbsp. finely chopped parsley, for garnish (o...</td>\n",
       "      <td>None</td>\n",
       "      <td>None</td>\n",
       "      <td>None</td>\n",
       "      <td>None</td>\n",
       "    </tr>\n",
       "    <tr>\n",
       "      <th>6</th>\n",
       "      <td>1/4 cup all-purpose flour</td>\n",
       "      <td>1  lb. boneless, skinless chicken breast halves</td>\n",
       "      <td>3 Tbsp. I Can't Believe It's Not Butter!® Spread</td>\n",
       "      <td>1 small onion, finely chopped</td>\n",
       "      <td>1 package (10 oz.) white or cremini mushrooms,...</td>\n",
       "      <td>1 tub Knorr® Homestyle Stock - Chicken</td>\n",
       "      <td>1 cup water</td>\n",
       "      <td>1/3 cup dry Marsala wine</td>\n",
       "      <td>1/2 tsp. fresh thyme leaves (optional)</td>\n",
       "      <td>None</td>\n",
       "      <td>None</td>\n",
       "      <td>None</td>\n",
       "      <td>None</td>\n",
       "      <td>None</td>\n",
       "      <td>None</td>\n",
       "      <td>None</td>\n",
       "    </tr>\n",
       "    <tr>\n",
       "      <th>7</th>\n",
       "      <td>1½ pounds boneless and skinless chicken breast...</td>\n",
       "      <td>1 cup flour</td>\n",
       "      <td>1 teaspoon kosher salt</td>\n",
       "      <td>½ teaspoon freshly ground black pepper</td>\n",
       "      <td>¼ cup extra virgin olive oil</td>\n",
       "      <td>4 ounces pancetta diced small</td>\n",
       "      <td>⅓ cup shallots diced</td>\n",
       "      <td>12 ounces porcini or cremini mushrooms, quartered</td>\n",
       "      <td>½ teaspoon dry oregano</td>\n",
       "      <td>⅔ cup Marsala wine</td>\n",
       "      <td>½ cup chicken stock</td>\n",
       "      <td>3 tablespoons butter</td>\n",
       "      <td>Additional salt and pepper if needed</td>\n",
       "      <td>Additional salt and pepper if needed</td>\n",
       "      <td>2 tablespoons fresh Italian flat leaf parsley,...</td>\n",
       "      <td>None</td>\n",
       "    </tr>\n",
       "    <tr>\n",
       "      <th>8</th>\n",
       "      <td>3 Tbs. all-purpose flour</td>\n",
       "      <td>1 tsp. salt, plus more, to taste</td>\n",
       "      <td>1/2 tsp. freshly ground pepper, plus more, to ...</td>\n",
       "      <td>6 boneless, skinless chicken breast halves, ea...</td>\n",
       "      <td>3 Tbs. unsalted butter</td>\n",
       "      <td>3 Tbs. olive oil</td>\n",
       "      <td>4 shallots, minced</td>\n",
       "      <td>1/4 lb. pancetta, diced</td>\n",
       "      <td>2 1/4 cups Marsala</td>\n",
       "      <td>1 cup chicken broth</td>\n",
       "      <td>2 tsp. dried oregano</td>\n",
       "      <td>1/2 lb. cremini or button mushrooms, brushed c...</td>\n",
       "      <td>1/2 cup mascarpone</td>\n",
       "      <td>3 Tbs. finely chopped fresh chives</td>\n",
       "      <td>None</td>\n",
       "      <td>None</td>\n",
       "    </tr>\n",
       "    <tr>\n",
       "      <th>9</th>\n",
       "      <td>4 boneless, skinless chicken breast halves (te...</td>\n",
       "      <td>1/3 cup flour</td>\n",
       "      <td>3 tablespoons butter, divided</td>\n",
       "      <td>3 tablespoons olive oil, divided</td>\n",
       "      <td>1 medium shallot, very finely chopped (about 1...</td>\n",
       "      <td>2 cloves garlic, very finely chopped</td>\n",
       "      <td>8 ounces cremini or white button mushrooms, sl...</td>\n",
       "      <td>3/4 cup Marsala wine</td>\n",
       "      <td>1/2 cup low-sodium chicken broth</td>\n",
       "      <td>Salt and freshly ground black pepper</td>\n",
       "      <td>Salt and freshly ground black pepper</td>\n",
       "      <td>2 tablespoons fresh parsley, chopped</td>\n",
       "      <td>None</td>\n",
       "      <td>None</td>\n",
       "      <td>None</td>\n",
       "      <td>None</td>\n",
       "    </tr>\n",
       "  </tbody>\n",
       "</table>\n",
       "</div>"
      ],
      "text/plain": [
       "                                                  0   \\\n",
       "0  3 large boneless, skinless chicken breasts (ab...   \n",
       "1  1¼ lb. chicken cutlets, pounded until ¼\" thick...   \n",
       "2                                   1 tablespoon oil   \n",
       "3  4 boneless skinless chicken breasts (about 1 1...   \n",
       "4                                      1/4 cup flour   \n",
       "5  1 1⁄4 lb. chicken cutlets, pounded until 1⁄4\" ...   \n",
       "6                          1/4 cup all-purpose flour   \n",
       "7  1½ pounds boneless and skinless chicken breast...   \n",
       "8                           3 Tbs. all-purpose flour   \n",
       "9  4 boneless, skinless chicken breast halves (te...   \n",
       "\n",
       "                                                  1   \\\n",
       "0     Wondra flour or all-purpose flour, for dusting   \n",
       "1  Kosher salt and freshly ground black pepper, t...   \n",
       "2  4 small chicken breasts, pounded thin and seas...   \n",
       "3              1/2 cup Gold Medal™ all-purpose flour   \n",
       "4                               Dash of white pepper   \n",
       "5  Kosher salt and freshly ground black pepper, t...   \n",
       "6    1  lb. boneless, skinless chicken breast halves   \n",
       "7                                        1 cup flour   \n",
       "8                   1 tsp. salt, plus more, to taste   \n",
       "9                                      1/3 cup flour   \n",
       "\n",
       "                                                  2   \\\n",
       "0                           2 tablespoons canola oil   \n",
       "1  Kosher salt and freshly ground black pepper, t...   \n",
       "2                                1 tablespoon butter   \n",
       "3                                  1/4 teaspoon salt   \n",
       "4                                    Dash of oregano   \n",
       "5  Kosher salt and freshly ground black pepper, t...   \n",
       "6   3 Tbsp. I Can't Believe It's Not Butter!® Spread   \n",
       "7                             1 teaspoon kosher salt   \n",
       "8  1/2 tsp. freshly ground pepper, plus more, to ...   \n",
       "9                      3 tablespoons butter, divided   \n",
       "\n",
       "                                                  3   \\\n",
       "0                      2 tablespoons unsalted butter   \n",
       "1                           ⅓ cup plus 1 tbsp. flour   \n",
       "2                         8 ounces mushrooms, sliced   \n",
       "3                                1/4 teaspoon pepper   \n",
       "4                                      Dash of basil   \n",
       "5                         1⁄3 cup plus 1 tbsp. flour   \n",
       "6                      1 small onion, finely chopped   \n",
       "7             ½ teaspoon freshly ground black pepper   \n",
       "8  6 boneless, skinless chicken breast halves, ea...   \n",
       "9                   3 tablespoons olive oil, divided   \n",
       "\n",
       "                                                  4   \\\n",
       "0        Kosher salt and freshly ground black pepper   \n",
       "1                                  5 tbsp. olive oil   \n",
       "2                     1 medium shallot, finely diced   \n",
       "3               2 tablespoons olive or vegetable oil   \n",
       "4               1-1/4 pound boneless chicken breasts   \n",
       "5                                  5 tbsp. olive oil   \n",
       "6  1 package (10 oz.) white or cremini mushrooms,...   \n",
       "7                       ¼ cup extra virgin olive oil   \n",
       "8                             3 Tbs. unsalted butter   \n",
       "9  1 medium shallot, very finely chopped (about 1...   \n",
       "\n",
       "                                            5   \\\n",
       "0  Kosher salt and freshly ground black pepper   \n",
       "1                      5 tbsp. unsalted butter   \n",
       "2                      1 clove garlic, chopped   \n",
       "3              2 cloves garlic, finely chopped   \n",
       "4                   1 tablespoon safflower oil   \n",
       "5                      5 tbsp. unsalted butter   \n",
       "6       1 tub Knorr® Homestyle Stock - Chicken   \n",
       "7                4 ounces pancetta diced small   \n",
       "8                             3 Tbs. olive oil   \n",
       "9         2 cloves garlic, very finely chopped   \n",
       "\n",
       "                                                  6   \\\n",
       "0  1 pound baby bella or button mushrooms, cleane...   \n",
       "1                       8 oz. white button mushrooms   \n",
       "2                                    1/2 cup marsala   \n",
       "3                1 cup sliced fresh mushrooms (3 oz)   \n",
       "4                   1 tablespoon butter or margarine   \n",
       "5                       8 oz. white button mushrooms   \n",
       "6                                        1 cup water   \n",
       "7                               ⅓ cup shallots diced   \n",
       "8                                 4 shallots, minced   \n",
       "9  8 ounces cremini or white button mushrooms, sl...   \n",
       "\n",
       "                                                  7   \\\n",
       "0             3 tablespoons unsalted butter, divided   \n",
       "1                            2 tbsp. minced shallots   \n",
       "2                                1 cup chicken broth   \n",
       "3  1/4 cup chopped fresh parsley or 1 tablespoon ...   \n",
       "4                        1/2 pound mushrooms, sliced   \n",
       "5                            2 tbsp. minced shallots   \n",
       "6                           1/3 cup dry Marsala wine   \n",
       "7  12 ounces porcini or cremini mushrooms, quartered   \n",
       "8                            1/4 lb. pancetta, diced   \n",
       "9                               3/4 cup Marsala wine   \n",
       "\n",
       "                                                  8   \\\n",
       "0                             1 cup dry marsala wine   \n",
       "1                             1 clove garlic, minced   \n",
       "2             2 tablespoons lemon juice (~1/2 lemon)   \n",
       "3  1/2 cup dry Marsala wine or Progresso™ chicken...   \n",
       "4                   1 cup marsala wine or dry sherry   \n",
       "5                             1 clove garlic, minced   \n",
       "6             1/2 tsp. fresh thyme leaves (optional)   \n",
       "7                             ½ teaspoon dry oregano   \n",
       "8                                 2 1/4 cups Marsala   \n",
       "9                   1/2 cup low-sodium chicken broth   \n",
       "\n",
       "                                                  9   \\\n",
       "0  1 cup warm beef stock, preferably homemade or ...   \n",
       "1                             ⅓ cup dry Marsala wine   \n",
       "2                           salt and pepper to taste   \n",
       "3                       Hot cooked pasta, if desired   \n",
       "4                                               None   \n",
       "5                           1⁄3 cup dry Marsala wine   \n",
       "6                                               None   \n",
       "7                                 ⅔ cup Marsala wine   \n",
       "8                                1 cup chicken broth   \n",
       "9               Salt and freshly ground black pepper   \n",
       "\n",
       "                                                  10  \\\n",
       "0  1 tablespoon tapioca flour, optional for a thi...   \n",
       "1                                ⅓ cup chicken stock   \n",
       "2                           salt and pepper to taste   \n",
       "3                                               None   \n",
       "4                                               None   \n",
       "5                              1⁄3 cup chicken stock   \n",
       "6                                               None   \n",
       "7                                ½ cup chicken stock   \n",
       "8                               2 tsp. dried oregano   \n",
       "9               Salt and freshly ground black pepper   \n",
       "\n",
       "                                                  11  \\\n",
       "0        Kosher salt and freshly ground black pepper   \n",
       "1  1 tbsp. finely chopped parsley, for garnish (o...   \n",
       "2                                1 tablespoon butter   \n",
       "3                                               None   \n",
       "4                                               None   \n",
       "5  1 tbsp. finely chopped parsley, for garnish (o...   \n",
       "6                                               None   \n",
       "7                               3 tablespoons butter   \n",
       "8  1/2 lb. cremini or button mushrooms, brushed c...   \n",
       "9               2 tablespoons fresh parsley, chopped   \n",
       "\n",
       "                                            12  \\\n",
       "0  Kosher salt and freshly ground black pepper   \n",
       "1                                         None   \n",
       "2                1 tablespoon parsley, chopped   \n",
       "3                                         None   \n",
       "4                                         None   \n",
       "5                                         None   \n",
       "6                                         None   \n",
       "7         Additional salt and pepper if needed   \n",
       "8                           1/2 cup mascarpone   \n",
       "9                                         None   \n",
       "\n",
       "                                     13  \\\n",
       "0                                  None   \n",
       "1                                  None   \n",
       "2                                  None   \n",
       "3                                  None   \n",
       "4                                  None   \n",
       "5                                  None   \n",
       "6                                  None   \n",
       "7  Additional salt and pepper if needed   \n",
       "8    3 Tbs. finely chopped fresh chives   \n",
       "9                                  None   \n",
       "\n",
       "                                                  14    15  \n",
       "0                                               None  None  \n",
       "1                                               None  None  \n",
       "2                                               None  None  \n",
       "3                                               None  None  \n",
       "4                                               None  None  \n",
       "5                                               None  None  \n",
       "6                                               None  None  \n",
       "7  2 tablespoons fresh Italian flat leaf parsley,...  None  \n",
       "8                                               None  None  \n",
       "9                                               None  None  "
      ]
     },
     "execution_count": 38,
     "metadata": {},
     "output_type": "execute_result"
    }
   ],
   "source": [
    "recipes_df.head(10)"
   ]
  },
  {
   "cell_type": "code",
   "execution_count": 39,
   "metadata": {
    "collapsed": false,
    "deletable": true,
    "editable": true
   },
   "outputs": [
    {
     "name": "stdout",
     "output_type": "stream",
     "text": [
      "<class 'pandas.core.frame.DataFrame'>\n",
      "RangeIndex: 40 entries, 0 to 39\n",
      "Data columns (total 16 columns):\n",
      "0     40 non-null object\n",
      "1     40 non-null object\n",
      "2     40 non-null object\n",
      "3     40 non-null object\n",
      "4     40 non-null object\n",
      "5     40 non-null object\n",
      "6     40 non-null object\n",
      "7     38 non-null object\n",
      "8     38 non-null object\n",
      "9     36 non-null object\n",
      "10    29 non-null object\n",
      "11    26 non-null object\n",
      "12    21 non-null object\n",
      "13    10 non-null object\n",
      "14    7 non-null object\n",
      "15    2 non-null object\n",
      "dtypes: object(16)\n",
      "memory usage: 5.1+ KB\n"
     ]
    }
   ],
   "source": [
    "recipes_df.info()"
   ]
  },
  {
   "cell_type": "code",
   "execution_count": 40,
   "metadata": {
    "collapsed": false,
    "deletable": true,
    "editable": true
   },
   "outputs": [
    {
     "data": {
      "text/html": [
       "<div>\n",
       "<style>\n",
       "    .dataframe thead tr:only-child th {\n",
       "        text-align: right;\n",
       "    }\n",
       "\n",
       "    .dataframe thead th {\n",
       "        text-align: left;\n",
       "    }\n",
       "\n",
       "    .dataframe tbody tr th {\n",
       "        vertical-align: top;\n",
       "    }\n",
       "</style>\n",
       "<table border=\"1\" class=\"dataframe\">\n",
       "  <thead>\n",
       "    <tr style=\"text-align: right;\">\n",
       "      <th></th>\n",
       "      <th>0</th>\n",
       "      <th>1</th>\n",
       "      <th>2</th>\n",
       "      <th>3</th>\n",
       "      <th>4</th>\n",
       "      <th>5</th>\n",
       "      <th>6</th>\n",
       "      <th>7</th>\n",
       "      <th>8</th>\n",
       "      <th>9</th>\n",
       "      <th>10</th>\n",
       "      <th>11</th>\n",
       "      <th>12</th>\n",
       "      <th>13</th>\n",
       "      <th>14</th>\n",
       "      <th>15</th>\n",
       "    </tr>\n",
       "  </thead>\n",
       "  <tbody>\n",
       "    <tr>\n",
       "      <th>count</th>\n",
       "      <td>40</td>\n",
       "      <td>40</td>\n",
       "      <td>40</td>\n",
       "      <td>40</td>\n",
       "      <td>40</td>\n",
       "      <td>40</td>\n",
       "      <td>40</td>\n",
       "      <td>38</td>\n",
       "      <td>38</td>\n",
       "      <td>36</td>\n",
       "      <td>29</td>\n",
       "      <td>26</td>\n",
       "      <td>21</td>\n",
       "      <td>10</td>\n",
       "      <td>7</td>\n",
       "      <td>2</td>\n",
       "    </tr>\n",
       "    <tr>\n",
       "      <th>unique</th>\n",
       "      <td>35</td>\n",
       "      <td>32</td>\n",
       "      <td>32</td>\n",
       "      <td>36</td>\n",
       "      <td>35</td>\n",
       "      <td>35</td>\n",
       "      <td>35</td>\n",
       "      <td>33</td>\n",
       "      <td>32</td>\n",
       "      <td>32</td>\n",
       "      <td>26</td>\n",
       "      <td>22</td>\n",
       "      <td>19</td>\n",
       "      <td>9</td>\n",
       "      <td>6</td>\n",
       "      <td>2</td>\n",
       "    </tr>\n",
       "    <tr>\n",
       "      <th>top</th>\n",
       "      <td>8 ounces sliced cremini mushrooms, divided</td>\n",
       "      <td>Kosher salt and freshly ground black pepper, t...</td>\n",
       "      <td>Kosher salt and freshly ground black pepper, t...</td>\n",
       "      <td>1/4 teaspoon pepper</td>\n",
       "      <td>5 tbsp. olive oil</td>\n",
       "      <td>5 tbsp. unsalted butter</td>\n",
       "      <td>8 oz. white button mushrooms</td>\n",
       "      <td>2 tbsp. minced shallots</td>\n",
       "      <td>1 clove garlic, minced</td>\n",
       "      <td>1/2 tablespoon all-purpose flour</td>\n",
       "      <td>1⁄3 cup chicken stock</td>\n",
       "      <td>1 tbsp. finely chopped parsley, for garnish (o...</td>\n",
       "      <td>Italian flat-leaf parsley, for garnish</td>\n",
       "      <td>1/3 cup Marsala wine</td>\n",
       "      <td>3/4 cup reduced sodium chicken broth</td>\n",
       "      <td>1 tablespoon minced chives</td>\n",
       "    </tr>\n",
       "    <tr>\n",
       "      <th>freq</th>\n",
       "      <td>2</td>\n",
       "      <td>5</td>\n",
       "      <td>5</td>\n",
       "      <td>2</td>\n",
       "      <td>3</td>\n",
       "      <td>3</td>\n",
       "      <td>3</td>\n",
       "      <td>3</td>\n",
       "      <td>3</td>\n",
       "      <td>2</td>\n",
       "      <td>2</td>\n",
       "      <td>3</td>\n",
       "      <td>2</td>\n",
       "      <td>2</td>\n",
       "      <td>2</td>\n",
       "      <td>1</td>\n",
       "    </tr>\n",
       "  </tbody>\n",
       "</table>\n",
       "</div>"
      ],
      "text/plain": [
       "                                                0   \\\n",
       "count                                           40   \n",
       "unique                                          35   \n",
       "top     8 ounces sliced cremini mushrooms, divided   \n",
       "freq                                             2   \n",
       "\n",
       "                                                       1   \\\n",
       "count                                                  40   \n",
       "unique                                                 32   \n",
       "top     Kosher salt and freshly ground black pepper, t...   \n",
       "freq                                                    5   \n",
       "\n",
       "                                                       2   \\\n",
       "count                                                  40   \n",
       "unique                                                 32   \n",
       "top     Kosher salt and freshly ground black pepper, t...   \n",
       "freq                                                    5   \n",
       "\n",
       "                         3                  4                        5   \\\n",
       "count                    40                 40                       40   \n",
       "unique                   36                 35                       35   \n",
       "top     1/4 teaspoon pepper  5 tbsp. olive oil  5 tbsp. unsalted butter   \n",
       "freq                      2                  3                        3   \n",
       "\n",
       "                                  6                        7   \\\n",
       "count                             40                       38   \n",
       "unique                            35                       33   \n",
       "top     8 oz. white button mushrooms  2 tbsp. minced shallots   \n",
       "freq                               3                        3   \n",
       "\n",
       "                            8                                 9   \\\n",
       "count                       38                                36   \n",
       "unique                      32                                32   \n",
       "top     1 clove garlic, minced  1/2 tablespoon all-purpose flour   \n",
       "freq                         3                                 2   \n",
       "\n",
       "                           10  \\\n",
       "count                      29   \n",
       "unique                     26   \n",
       "top     1⁄3 cup chicken stock   \n",
       "freq                        2   \n",
       "\n",
       "                                                       11  \\\n",
       "count                                                  26   \n",
       "unique                                                 22   \n",
       "top     1 tbsp. finely chopped parsley, for garnish (o...   \n",
       "freq                                                    3   \n",
       "\n",
       "                                            12                    13  \\\n",
       "count                                       21                    10   \n",
       "unique                                      19                     9   \n",
       "top     Italian flat-leaf parsley, for garnish  1/3 cup Marsala wine   \n",
       "freq                                         2                     2   \n",
       "\n",
       "                                          14                          15  \n",
       "count                                      7                           2  \n",
       "unique                                     6                           2  \n",
       "top     3/4 cup reduced sodium chicken broth  1 tablespoon minced chives  \n",
       "freq                                       2                           1  "
      ]
     },
     "execution_count": 40,
     "metadata": {},
     "output_type": "execute_result"
    }
   ],
   "source": [
    "recipes_df.describe()"
   ]
  },
  {
   "cell_type": "code",
   "execution_count": 43,
   "metadata": {
    "collapsed": true,
    "deletable": true,
    "editable": true
   },
   "outputs": [],
   "source": [
    "## Comment: need to standardise ingredients - see NYTimes approach\n",
    "# Probably can use spaCy\n",
    "# Will need to clean the text as part of this and have some sort of similarity measure for ingredients"
   ]
  },
  {
   "cell_type": "code",
   "execution_count": 44,
   "metadata": {
    "collapsed": false,
    "deletable": true,
    "editable": true
   },
   "outputs": [
    {
     "data": {
      "text/plain": [
       "pandas.core.series.Series"
      ]
     },
     "execution_count": 44,
     "metadata": {},
     "output_type": "execute_result"
    }
   ],
   "source": [
    "type(recipes_df.iloc[0])"
   ]
  },
  {
   "cell_type": "code",
   "execution_count": 45,
   "metadata": {
    "collapsed": true,
    "deletable": true,
    "editable": true
   },
   "outputs": [],
   "source": [
    "import spacy\n",
    "nlp = spacy.load('en')"
   ]
  },
  {
   "cell_type": "code",
   "execution_count": 58,
   "metadata": {
    "collapsed": false,
    "deletable": true,
    "editable": true
   },
   "outputs": [],
   "source": [
    "def get_entity_and_type(textstr):\n",
    "    textstr = unicode(textstr)\n",
    "    doc = nlp(textstr)\n",
    "    out_list = []\n",
    "    for ent in doc.ents:\n",
    "        out_list.append((ent, ent.label_, ent.label, ent.orth_)) ent.\n",
    "    return out_list\n",
    "\n",
    "\n",
    "# token.orth_, token.ent_type_ if token.ent_type_"
   ]
  },
  {
   "cell_type": "code",
   "execution_count": 59,
   "metadata": {
    "collapsed": true
   },
   "outputs": [],
   "source": [
    "doc1 = nlp(recipes_df[0][2])"
   ]
  },
  {
   "cell_type": "code",
   "execution_count": 67,
   "metadata": {
    "collapsed": false
   },
   "outputs": [
    {
     "data": {
      "text/plain": [
       "u'1 tablespoon oil'"
      ]
     },
     "execution_count": 67,
     "metadata": {},
     "output_type": "execute_result"
    }
   ],
   "source": [
    "recipes_df[0][2]"
   ]
  },
  {
   "cell_type": "code",
   "execution_count": 94,
   "metadata": {
    "collapsed": false
   },
   "outputs": [
    {
     "name": "stdout",
     "output_type": "stream",
     "text": [
      " 1\n",
      "tablespoon\n",
      "oil\n"
     ]
    }
   ],
   "source": [
    " for ent in doc1.ents:\n",
    "        for word in ent.sent:\n",
    "            print word"
   ]
  },
  {
   "cell_type": "code",
   "execution_count": 90,
   "metadata": {
    "collapsed": false
   },
   "outputs": [],
   "source": [
    "for chunk in doc1.noun_chunks:\n",
    "    print chunk"
   ]
  },
  {
   "cell_type": "code",
   "execution_count": 49,
   "metadata": {
    "collapsed": false,
    "deletable": true,
    "editable": true
   },
   "outputs": [
    {
     "name": "stdout",
     "output_type": "stream",
     "text": [
      "3 large boneless, skinless chicken breasts (about 2 1/2 pounds), split into 6 cutlets\n",
      "1¼ lb. chicken cutlets, pounded until ¼\" thick (about 8)\n",
      "1 tablespoon oil\n",
      "4 boneless skinless chicken breasts (about 1 1/4 lb)\n",
      "1/4 cup flour\n",
      "1 1⁄4 lb. chicken cutlets, pounded until 1⁄4\" thick (about 8)\n",
      "1/4 cup all-purpose flour\n",
      "1½ pounds boneless and skinless chicken breast (2 large or 4 small)\n",
      "3 Tbs. all-purpose flour\n",
      "4 boneless, skinless chicken breast halves (tenderloins removed - about 1-1/4 lbs)\n"
     ]
    }
   ],
   "source": [
    "for i in range(0, 10):\n",
    "    print recipes_df[0][i]"
   ]
  },
  {
   "cell_type": "code",
   "execution_count": 61,
   "metadata": {
    "collapsed": false,
    "deletable": true,
    "editable": true
   },
   "outputs": [],
   "source": [
    "recipes_df['spacy-ingreds'] = recipes_df[0].apply(lambda ingred : get_entity_and_type(ingred))"
   ]
  },
  {
   "cell_type": "code",
   "execution_count": 62,
   "metadata": {
    "collapsed": false,
    "deletable": true,
    "editable": true
   },
   "outputs": [
    {
     "name": "stdout",
     "output_type": "stream",
     "text": [
      "[(3, u'CARDINAL', 362, u'3'), (about 2 1/2 pounds, u'MONEY', 359, u'about 2 1/2 pounds'), (6, u'CARDINAL', 362, u'6')]\n",
      "3 large boneless, skinless chicken breasts (about 2 1/2 pounds), split into 6 cutlets\n"
     ]
    }
   ],
   "source": [
    "print recipes_df['spacy-ingreds'][0]\n",
    "print recipes_df[0][0]"
   ]
  },
  {
   "cell_type": "code",
   "execution_count": 103,
   "metadata": {
    "collapsed": false,
    "deletable": true,
    "editable": true
   },
   "outputs": [
    {
     "data": {
      "text/plain": [
       "0    [((3), CARDINAL, 362), ((about, 2, 1/2, pounds...\n",
       "1    [((4), CARDINAL, 362), ((1, 1/4), CARDINAL, 362)]\n",
       "2                              [((1¼), CARDINAL, 362)]\n",
       "3                               [((1), CARDINAL, 362)]\n",
       "4                               [((1), CARDINAL, 362)]\n",
       "Name: spacy-ingreds, dtype: object"
      ]
     },
     "execution_count": 103,
     "metadata": {},
     "output_type": "execute_result"
    }
   ],
   "source": [
    "recipes_df['spacy-ingreds'].head()"
   ]
  },
  {
   "cell_type": "code",
   "execution_count": null,
   "metadata": {
    "collapsed": true,
    "deletable": true,
    "editable": true
   },
   "outputs": [],
   "source": []
  },
  {
   "cell_type": "code",
   "execution_count": 107,
   "metadata": {
    "collapsed": false,
    "deletable": true,
    "editable": true
   },
   "outputs": [
    {
     "data": {
      "text/plain": [
       "'http://api.yummly.com/v1/api/recipes'"
      ]
     },
     "execution_count": 107,
     "metadata": {},
     "output_type": "execute_result"
    }
   ],
   "source": [
    "client.URL_SEARCH"
   ]
  },
  {
   "cell_type": "code",
   "execution_count": null,
   "metadata": {
    "collapsed": true,
    "deletable": true,
    "editable": true
   },
   "outputs": [],
   "source": []
  },
  {
   "cell_type": "code",
   "execution_count": null,
   "metadata": {
    "collapsed": true,
    "deletable": true,
    "editable": true
   },
   "outputs": [],
   "source": []
  },
  {
   "cell_type": "code",
   "execution_count": null,
   "metadata": {
    "collapsed": true,
    "deletable": true,
    "editable": true
   },
   "outputs": [],
   "source": []
  },
  {
   "cell_type": "code",
   "execution_count": null,
   "metadata": {
    "collapsed": true,
    "deletable": true,
    "editable": true
   },
   "outputs": [],
   "source": []
  },
  {
   "cell_type": "code",
   "execution_count": 108,
   "metadata": {
    "collapsed": false,
    "deletable": true,
    "editable": true
   },
   "outputs": [
    {
     "data": {
      "text/plain": [
       "'http://api.yummly.com/v1/api'"
      ]
     },
     "execution_count": 108,
     "metadata": {},
     "output_type": "execute_result"
    }
   ],
   "source": [
    "client.URL_BASE"
   ]
  },
  {
   "cell_type": "code",
   "execution_count": 109,
   "metadata": {
    "collapsed": false,
    "deletable": true,
    "editable": true
   },
   "outputs": [
    {
     "data": {
      "text/plain": [
       "'http://api.yummly.com/v1/api/recipe/'"
      ]
     },
     "execution_count": 109,
     "metadata": {},
     "output_type": "execute_result"
    }
   ],
   "source": [
    "client.URL_GET"
   ]
  },
  {
   "cell_type": "code",
   "execution_count": 110,
   "metadata": {
    "collapsed": false,
    "deletable": true,
    "editable": true
   },
   "outputs": [
    {
     "data": {
      "text/plain": [
       "'http://api.yummly.com/v1/api/metadata'"
      ]
     },
     "execution_count": 110,
     "metadata": {},
     "output_type": "execute_result"
    }
   ],
   "source": [
    "client.URL_META"
   ]
  },
  {
   "cell_type": "code",
   "execution_count": null,
   "metadata": {
    "collapsed": true,
    "deletable": true,
    "editable": true
   },
   "outputs": [],
   "source": []
  }
 ],
 "metadata": {
  "kernelspec": {
   "display_name": "Python 2",
   "language": "python",
   "name": "python2"
  },
  "language_info": {
   "codemirror_mode": {
    "name": "ipython",
    "version": 2
   },
   "file_extension": ".py",
   "mimetype": "text/x-python",
   "name": "python",
   "nbconvert_exporter": "python",
   "pygments_lexer": "ipython2",
   "version": "2.7.13"
  }
 },
 "nbformat": 4,
 "nbformat_minor": 0
}
