{
 "cells": [
  {
   "cell_type": "markdown",
   "metadata": {},
   "source": [
    "### Imports"
   ]
  },
  {
   "cell_type": "code",
   "execution_count": 364,
   "metadata": {
    "collapsed": false
   },
   "outputs": [],
   "source": [
    "import pandas as pd\n",
    "from prettypandas import PrettyPandas"
   ]
  },
  {
   "cell_type": "markdown",
   "metadata": {},
   "source": [
    "### Yummly set-up"
   ]
  },
  {
   "cell_type": "code",
   "execution_count": 365,
   "metadata": {
    "collapsed": true,
    "deletable": true,
    "editable": true
   },
   "outputs": [],
   "source": [
    "import yummly\n",
    "\n",
    "# default option values\n",
    "TIMEOUT = 45.0\n",
    "RETRIES = 3\n",
    "\n",
    "# Yummly mjboothaus Account: Hackathon Plan - Access granted 24 July 2017\n",
    "\n",
    "API_ID = 'b4f167ed'\n",
    "API_KEY = 'f69184af19beb4b76e7b7b1984046581'"
   ]
  },
  {
   "cell_type": "markdown",
   "metadata": {},
   "source": [
    "### Yummly meta-data (not strictly used)"
   ]
  },
  {
   "cell_type": "code",
   "execution_count": 366,
   "metadata": {
    "collapsed": true,
    "deletable": true,
    "editable": true
   },
   "outputs": [],
   "source": [
    "METADATA_KEYS = [\n",
    "    'ingredient',\n",
    "    'holiday',\n",
    "    'diet',\n",
    "    'allergy',\n",
    "    'technique',\n",
    "    'cuisine',\n",
    "    'course',\n",
    "    'source',\n",
    "    'brand',\n",
    "    'restriction']"
   ]
  },
  {
   "cell_type": "code",
   "execution_count": 367,
   "metadata": {
    "collapsed": true,
    "deletable": true,
    "editable": true
   },
   "outputs": [],
   "source": [
    "metadata = {i+1:key for i, key in enumerate(METADATA_KEYS)}"
   ]
  },
  {
   "cell_type": "code",
   "execution_count": 368,
   "metadata": {
    "collapsed": true,
    "deletable": true,
    "editable": true
   },
   "outputs": [],
   "source": [
    "metadata_rev = dict((v, k) for k, v in metadata.items())"
   ]
  },
  {
   "cell_type": "code",
   "execution_count": 369,
   "metadata": {
    "collapsed": false,
    "deletable": true,
    "editable": true
   },
   "outputs": [
    {
     "data": {
      "text/plain": [
       "{'allergy': 4,\n",
       " 'brand': 9,\n",
       " 'course': 7,\n",
       " 'cuisine': 6,\n",
       " 'diet': 3,\n",
       " 'holiday': 2,\n",
       " 'ingredient': 1,\n",
       " 'restriction': 10,\n",
       " 'source': 8,\n",
       " 'technique': 5}"
      ]
     },
     "execution_count": 369,
     "metadata": {},
     "output_type": "execute_result"
    }
   ],
   "source": [
    "metadata_rev"
   ]
  },
  {
   "cell_type": "code",
   "execution_count": 370,
   "metadata": {
    "collapsed": false,
    "deletable": true,
    "editable": true
   },
   "outputs": [
    {
     "data": {
      "text/plain": [
       "{1: 'ingredient',\n",
       " 2: 'holiday',\n",
       " 3: 'diet',\n",
       " 4: 'allergy',\n",
       " 5: 'technique',\n",
       " 6: 'cuisine',\n",
       " 7: 'course',\n",
       " 8: 'source',\n",
       " 9: 'brand',\n",
       " 10: 'restriction'}"
      ]
     },
     "execution_count": 370,
     "metadata": {},
     "output_type": "execute_result"
    }
   ],
   "source": [
    "metadata"
   ]
  },
  {
   "cell_type": "markdown",
   "metadata": {},
   "source": [
    "### Create Yummly Client (if necessary)"
   ]
  },
  {
   "cell_type": "code",
   "execution_count": 371,
   "metadata": {
    "collapsed": false
   },
   "outputs": [
    {
     "name": "stdout",
     "output_type": "stream",
     "text": [
      "b4f167ed\n",
      "Yummly Client already created\n"
     ]
    }
   ],
   "source": [
    "try:\n",
    "    print client.api_id\n",
    "    print \"Yummly Client already created\"\n",
    "except:\n",
    "    print \"Create Yummly API Client\"\n",
    "    client = yummly.Client(api_id=API_ID, api_key=API_KEY, timeout=TIMEOUT, retries=RETRIES)"
   ]
  },
  {
   "cell_type": "markdown",
   "metadata": {},
   "source": [
    "### Extract ingredient list into dataframe (currently unused)"
   ]
  },
  {
   "cell_type": "code",
   "execution_count": 375,
   "metadata": {
    "collapsed": false,
    "deletable": true,
    "editable": true
   },
   "outputs": [
    {
     "name": "stdout",
     "output_type": "stream",
     "text": [
      "13392 current ingredients\n"
     ]
    }
   ],
   "source": [
    "ingredient_list = client.metadata('ingredient')\n",
    "ingredient_df = pd.DataFrame(ingredient_list)\n",
    "\n",
    "print str(len(ingredient_list)) + ' current ingredients'\n",
    "\n",
    "\n",
    "#diet_list = client.metadata('diet')\n",
    "#source_list = client.metadata('source')\n",
    "\n",
    "#meta = ['']\n",
    "#for i in range(1, 10):\n",
    "#    meta.append(client.metadata(metadata[i]))"
   ]
  },
  {
   "cell_type": "markdown",
   "metadata": {},
   "source": [
    "### Extract recognised cuisine-types into dataframe"
   ]
  },
  {
   "cell_type": "code",
   "execution_count": 378,
   "metadata": {
    "collapsed": false
   },
   "outputs": [
    {
     "name": "stdout",
     "output_type": "stream",
     "text": [
      "26 recognised cuisine types\n"
     ]
    }
   ],
   "source": [
    "cuisine_list = client.metadata('cuisine')\n",
    "cuisine_df = pd.DataFrame(cuisine_list)\n",
    "\n",
    "print str(len(cuisine_list)) + ' recognised cuisine types'"
   ]
  },
  {
   "cell_type": "code",
   "execution_count": 379,
   "metadata": {
    "collapsed": false
   },
   "outputs": [
    {
     "data": {
      "text/html": [
       "<div>\n",
       "<style>\n",
       "    .dataframe thead tr:only-child th {\n",
       "        text-align: right;\n",
       "    }\n",
       "\n",
       "    .dataframe thead th {\n",
       "        text-align: left;\n",
       "    }\n",
       "\n",
       "    .dataframe tbody tr th {\n",
       "        vertical-align: top;\n",
       "    }\n",
       "</style>\n",
       "<table border=\"1\" class=\"dataframe\">\n",
       "  <thead>\n",
       "    <tr style=\"text-align: right;\">\n",
       "      <th></th>\n",
       "      <th>name</th>\n",
       "      <th>id</th>\n",
       "      <th>searchValue</th>\n",
       "    </tr>\n",
       "  </thead>\n",
       "  <tbody>\n",
       "    <tr>\n",
       "      <th>0</th>\n",
       "      <td>American</td>\n",
       "      <td>cuisine-american</td>\n",
       "      <td>cuisine^cuisine-american</td>\n",
       "    </tr>\n",
       "    <tr>\n",
       "      <th>1</th>\n",
       "      <td>Kid-Friendly</td>\n",
       "      <td>cuisine-kid-friendly</td>\n",
       "      <td>cuisine^cuisine-kid-friendly</td>\n",
       "    </tr>\n",
       "    <tr>\n",
       "      <th>2</th>\n",
       "      <td>Italian</td>\n",
       "      <td>cuisine-italian</td>\n",
       "      <td>cuisine^cuisine-italian</td>\n",
       "    </tr>\n",
       "  </tbody>\n",
       "</table>\n",
       "</div>"
      ],
      "text/plain": [
       "           name                    id                   searchValue\n",
       "0      American      cuisine-american      cuisine^cuisine-american\n",
       "1  Kid-Friendly  cuisine-kid-friendly  cuisine^cuisine-kid-friendly\n",
       "2       Italian       cuisine-italian       cuisine^cuisine-italian"
      ]
     },
     "execution_count": 379,
     "metadata": {},
     "output_type": "execute_result"
    }
   ],
   "source": [
    "cuisine_df[['name', 'id', 'searchValue']][0:3]"
   ]
  },
  {
   "cell_type": "markdown",
   "metadata": {},
   "source": [
    "### Import Country / Cuisine mappings"
   ]
  },
  {
   "cell_type": "code",
   "execution_count": 380,
   "metadata": {
    "collapsed": true
   },
   "outputs": [],
   "source": [
    "xls_filepath = 'country_info.xlsx'\n",
    "\n",
    "country_info = pd.read_excel(xls_filepath, sheetname='Export', names={'Country', 'Code', 'Region', 'Cuisines'})"
   ]
  },
  {
   "cell_type": "code",
   "execution_count": 381,
   "metadata": {
    "collapsed": true
   },
   "outputs": [],
   "source": [
    "def country_belongs_to_cusine(cuisine_type, cuisines):\n",
    "    if cuisine_type in cuisines:\n",
    "        return True\n",
    "    else:\n",
    "        return False"
   ]
  },
  {
   "cell_type": "code",
   "execution_count": 382,
   "metadata": {
    "collapsed": false
   },
   "outputs": [],
   "source": [
    "for cuisine in cuisine_df.name:\n",
    "    if cuisine == 'Kid-Friendly':\n",
    "        cuisine = 'Undefined'\n",
    "    country_info[cuisine] = country_info['Cuisines'].apply(lambda x: country_belongs_to_cusine(cuisine, x))"
   ]
  },
  {
   "cell_type": "code",
   "execution_count": 383,
   "metadata": {
    "collapsed": false
   },
   "outputs": [
    {
     "data": {
      "text/html": [
       "<style  type=\"text/css\" >\n",
       "    #T_4dd9f142_c807_11e7_a227_22db378a6ce4 th {\n",
       "          background: #eee;\n",
       "          font-weight: 500;\n",
       "    }    #T_4dd9f142_c807_11e7_a227_22db378a6ce4 td {\n",
       "          text-align: right;\n",
       "          min-width: 3em;\n",
       "    }    #T_4dd9f142_c807_11e7_a227_22db378a6ce4 * {\n",
       "          border-color: #c0c0c0;\n",
       "    }</style>  \n",
       "<table id=\"T_4dd9f142_c807_11e7_a227_22db378a6ce4\" > \n",
       "<thead>    <tr> \n",
       "        <th class=\"blank level0\" ></th> \n",
       "        <th class=\"col_heading level0 col0\" >Country</th> \n",
       "        <th class=\"col_heading level0 col1\" >Region</th> \n",
       "        <th class=\"col_heading level0 col2\" >Code</th> \n",
       "        <th class=\"col_heading level0 col3\" >Cuisines</th> \n",
       "        <th class=\"col_heading level0 col4\" >American</th> \n",
       "        <th class=\"col_heading level0 col5\" >Undefined</th> \n",
       "        <th class=\"col_heading level0 col6\" >Italian</th> \n",
       "        <th class=\"col_heading level0 col7\" >Asian</th> \n",
       "        <th class=\"col_heading level0 col8\" >Mexican</th> \n",
       "        <th class=\"col_heading level0 col9\" >Southern & Soul Food</th> \n",
       "        <th class=\"col_heading level0 col10\" >French</th> \n",
       "        <th class=\"col_heading level0 col11\" >Southwestern</th> \n",
       "        <th class=\"col_heading level0 col12\" >Barbecue</th> \n",
       "        <th class=\"col_heading level0 col13\" >Indian</th> \n",
       "        <th class=\"col_heading level0 col14\" >Chinese</th> \n",
       "        <th class=\"col_heading level0 col15\" >Cajun & Creole</th> \n",
       "        <th class=\"col_heading level0 col16\" >Mediterranean</th> \n",
       "        <th class=\"col_heading level0 col17\" >Greek</th> \n",
       "        <th class=\"col_heading level0 col18\" >English</th> \n",
       "        <th class=\"col_heading level0 col19\" >Spanish</th> \n",
       "        <th class=\"col_heading level0 col20\" >Thai</th> \n",
       "        <th class=\"col_heading level0 col21\" >German</th> \n",
       "        <th class=\"col_heading level0 col22\" >Moroccan</th> \n",
       "        <th class=\"col_heading level0 col23\" >Irish</th> \n",
       "        <th class=\"col_heading level0 col24\" >Japanese</th> \n",
       "        <th class=\"col_heading level0 col25\" >Cuban</th> \n",
       "        <th class=\"col_heading level0 col26\" >Hawaiian</th> \n",
       "        <th class=\"col_heading level0 col27\" >Swedish</th> \n",
       "        <th class=\"col_heading level0 col28\" >Hungarian</th> \n",
       "        <th class=\"col_heading level0 col29\" >Portuguese</th> \n",
       "    </tr></thead> \n",
       "<tbody>    <tr> \n",
       "        <th id=\"T_4dd9f142_c807_11e7_a227_22db378a6ce4\" class=\"row_heading level0 row0\" >0</th> \n",
       "        <td id=\"T_4dd9f142_c807_11e7_a227_22db378a6ce4row0_col0\" class=\"data row0 col0\" >Afghanistan</td> \n",
       "        <td id=\"T_4dd9f142_c807_11e7_a227_22db378a6ce4row0_col1\" class=\"data row0 col1\" >AFG</td> \n",
       "        <td id=\"T_4dd9f142_c807_11e7_a227_22db378a6ce4row0_col2\" class=\"data row0 col2\" >Asia</td> \n",
       "        <td id=\"T_4dd9f142_c807_11e7_a227_22db378a6ce4row0_col3\" class=\"data row0 col3\" >Asian</td> \n",
       "        <td id=\"T_4dd9f142_c807_11e7_a227_22db378a6ce4row0_col4\" class=\"data row0 col4\" >False</td> \n",
       "        <td id=\"T_4dd9f142_c807_11e7_a227_22db378a6ce4row0_col5\" class=\"data row0 col5\" >False</td> \n",
       "        <td id=\"T_4dd9f142_c807_11e7_a227_22db378a6ce4row0_col6\" class=\"data row0 col6\" >False</td> \n",
       "        <td id=\"T_4dd9f142_c807_11e7_a227_22db378a6ce4row0_col7\" class=\"data row0 col7\" >True</td> \n",
       "        <td id=\"T_4dd9f142_c807_11e7_a227_22db378a6ce4row0_col8\" class=\"data row0 col8\" >False</td> \n",
       "        <td id=\"T_4dd9f142_c807_11e7_a227_22db378a6ce4row0_col9\" class=\"data row0 col9\" >False</td> \n",
       "        <td id=\"T_4dd9f142_c807_11e7_a227_22db378a6ce4row0_col10\" class=\"data row0 col10\" >False</td> \n",
       "        <td id=\"T_4dd9f142_c807_11e7_a227_22db378a6ce4row0_col11\" class=\"data row0 col11\" >False</td> \n",
       "        <td id=\"T_4dd9f142_c807_11e7_a227_22db378a6ce4row0_col12\" class=\"data row0 col12\" >False</td> \n",
       "        <td id=\"T_4dd9f142_c807_11e7_a227_22db378a6ce4row0_col13\" class=\"data row0 col13\" >False</td> \n",
       "        <td id=\"T_4dd9f142_c807_11e7_a227_22db378a6ce4row0_col14\" class=\"data row0 col14\" >False</td> \n",
       "        <td id=\"T_4dd9f142_c807_11e7_a227_22db378a6ce4row0_col15\" class=\"data row0 col15\" >False</td> \n",
       "        <td id=\"T_4dd9f142_c807_11e7_a227_22db378a6ce4row0_col16\" class=\"data row0 col16\" >False</td> \n",
       "        <td id=\"T_4dd9f142_c807_11e7_a227_22db378a6ce4row0_col17\" class=\"data row0 col17\" >False</td> \n",
       "        <td id=\"T_4dd9f142_c807_11e7_a227_22db378a6ce4row0_col18\" class=\"data row0 col18\" >False</td> \n",
       "        <td id=\"T_4dd9f142_c807_11e7_a227_22db378a6ce4row0_col19\" class=\"data row0 col19\" >False</td> \n",
       "        <td id=\"T_4dd9f142_c807_11e7_a227_22db378a6ce4row0_col20\" class=\"data row0 col20\" >False</td> \n",
       "        <td id=\"T_4dd9f142_c807_11e7_a227_22db378a6ce4row0_col21\" class=\"data row0 col21\" >False</td> \n",
       "        <td id=\"T_4dd9f142_c807_11e7_a227_22db378a6ce4row0_col22\" class=\"data row0 col22\" >False</td> \n",
       "        <td id=\"T_4dd9f142_c807_11e7_a227_22db378a6ce4row0_col23\" class=\"data row0 col23\" >False</td> \n",
       "        <td id=\"T_4dd9f142_c807_11e7_a227_22db378a6ce4row0_col24\" class=\"data row0 col24\" >False</td> \n",
       "        <td id=\"T_4dd9f142_c807_11e7_a227_22db378a6ce4row0_col25\" class=\"data row0 col25\" >False</td> \n",
       "        <td id=\"T_4dd9f142_c807_11e7_a227_22db378a6ce4row0_col26\" class=\"data row0 col26\" >False</td> \n",
       "        <td id=\"T_4dd9f142_c807_11e7_a227_22db378a6ce4row0_col27\" class=\"data row0 col27\" >False</td> \n",
       "        <td id=\"T_4dd9f142_c807_11e7_a227_22db378a6ce4row0_col28\" class=\"data row0 col28\" >False</td> \n",
       "        <td id=\"T_4dd9f142_c807_11e7_a227_22db378a6ce4row0_col29\" class=\"data row0 col29\" >False</td> \n",
       "    </tr>    <tr> \n",
       "        <th id=\"T_4dd9f142_c807_11e7_a227_22db378a6ce4\" class=\"row_heading level0 row1\" >1</th> \n",
       "        <td id=\"T_4dd9f142_c807_11e7_a227_22db378a6ce4row1_col0\" class=\"data row1 col0\" >Aland Islands</td> \n",
       "        <td id=\"T_4dd9f142_c807_11e7_a227_22db378a6ce4row1_col1\" class=\"data row1 col1\" >ALA</td> \n",
       "        <td id=\"T_4dd9f142_c807_11e7_a227_22db378a6ce4row1_col2\" class=\"data row1 col2\" >EU</td> \n",
       "        <td id=\"T_4dd9f142_c807_11e7_a227_22db378a6ce4row1_col3\" class=\"data row1 col3\" >Swedish</td> \n",
       "        <td id=\"T_4dd9f142_c807_11e7_a227_22db378a6ce4row1_col4\" class=\"data row1 col4\" >False</td> \n",
       "        <td id=\"T_4dd9f142_c807_11e7_a227_22db378a6ce4row1_col5\" class=\"data row1 col5\" >False</td> \n",
       "        <td id=\"T_4dd9f142_c807_11e7_a227_22db378a6ce4row1_col6\" class=\"data row1 col6\" >False</td> \n",
       "        <td id=\"T_4dd9f142_c807_11e7_a227_22db378a6ce4row1_col7\" class=\"data row1 col7\" >False</td> \n",
       "        <td id=\"T_4dd9f142_c807_11e7_a227_22db378a6ce4row1_col8\" class=\"data row1 col8\" >False</td> \n",
       "        <td id=\"T_4dd9f142_c807_11e7_a227_22db378a6ce4row1_col9\" class=\"data row1 col9\" >False</td> \n",
       "        <td id=\"T_4dd9f142_c807_11e7_a227_22db378a6ce4row1_col10\" class=\"data row1 col10\" >False</td> \n",
       "        <td id=\"T_4dd9f142_c807_11e7_a227_22db378a6ce4row1_col11\" class=\"data row1 col11\" >False</td> \n",
       "        <td id=\"T_4dd9f142_c807_11e7_a227_22db378a6ce4row1_col12\" class=\"data row1 col12\" >False</td> \n",
       "        <td id=\"T_4dd9f142_c807_11e7_a227_22db378a6ce4row1_col13\" class=\"data row1 col13\" >False</td> \n",
       "        <td id=\"T_4dd9f142_c807_11e7_a227_22db378a6ce4row1_col14\" class=\"data row1 col14\" >False</td> \n",
       "        <td id=\"T_4dd9f142_c807_11e7_a227_22db378a6ce4row1_col15\" class=\"data row1 col15\" >False</td> \n",
       "        <td id=\"T_4dd9f142_c807_11e7_a227_22db378a6ce4row1_col16\" class=\"data row1 col16\" >False</td> \n",
       "        <td id=\"T_4dd9f142_c807_11e7_a227_22db378a6ce4row1_col17\" class=\"data row1 col17\" >False</td> \n",
       "        <td id=\"T_4dd9f142_c807_11e7_a227_22db378a6ce4row1_col18\" class=\"data row1 col18\" >False</td> \n",
       "        <td id=\"T_4dd9f142_c807_11e7_a227_22db378a6ce4row1_col19\" class=\"data row1 col19\" >False</td> \n",
       "        <td id=\"T_4dd9f142_c807_11e7_a227_22db378a6ce4row1_col20\" class=\"data row1 col20\" >False</td> \n",
       "        <td id=\"T_4dd9f142_c807_11e7_a227_22db378a6ce4row1_col21\" class=\"data row1 col21\" >False</td> \n",
       "        <td id=\"T_4dd9f142_c807_11e7_a227_22db378a6ce4row1_col22\" class=\"data row1 col22\" >False</td> \n",
       "        <td id=\"T_4dd9f142_c807_11e7_a227_22db378a6ce4row1_col23\" class=\"data row1 col23\" >False</td> \n",
       "        <td id=\"T_4dd9f142_c807_11e7_a227_22db378a6ce4row1_col24\" class=\"data row1 col24\" >False</td> \n",
       "        <td id=\"T_4dd9f142_c807_11e7_a227_22db378a6ce4row1_col25\" class=\"data row1 col25\" >False</td> \n",
       "        <td id=\"T_4dd9f142_c807_11e7_a227_22db378a6ce4row1_col26\" class=\"data row1 col26\" >False</td> \n",
       "        <td id=\"T_4dd9f142_c807_11e7_a227_22db378a6ce4row1_col27\" class=\"data row1 col27\" >True</td> \n",
       "        <td id=\"T_4dd9f142_c807_11e7_a227_22db378a6ce4row1_col28\" class=\"data row1 col28\" >False</td> \n",
       "        <td id=\"T_4dd9f142_c807_11e7_a227_22db378a6ce4row1_col29\" class=\"data row1 col29\" >False</td> \n",
       "    </tr>    <tr> \n",
       "        <th id=\"T_4dd9f142_c807_11e7_a227_22db378a6ce4\" class=\"row_heading level0 row2\" >2</th> \n",
       "        <td id=\"T_4dd9f142_c807_11e7_a227_22db378a6ce4row2_col0\" class=\"data row2 col0\" >Albania</td> \n",
       "        <td id=\"T_4dd9f142_c807_11e7_a227_22db378a6ce4row2_col1\" class=\"data row2 col1\" >ALB</td> \n",
       "        <td id=\"T_4dd9f142_c807_11e7_a227_22db378a6ce4row2_col2\" class=\"data row2 col2\" >Non-EU Europe</td> \n",
       "        <td id=\"T_4dd9f142_c807_11e7_a227_22db378a6ce4row2_col3\" class=\"data row2 col3\" >Undefined</td> \n",
       "        <td id=\"T_4dd9f142_c807_11e7_a227_22db378a6ce4row2_col4\" class=\"data row2 col4\" >False</td> \n",
       "        <td id=\"T_4dd9f142_c807_11e7_a227_22db378a6ce4row2_col5\" class=\"data row2 col5\" >True</td> \n",
       "        <td id=\"T_4dd9f142_c807_11e7_a227_22db378a6ce4row2_col6\" class=\"data row2 col6\" >False</td> \n",
       "        <td id=\"T_4dd9f142_c807_11e7_a227_22db378a6ce4row2_col7\" class=\"data row2 col7\" >False</td> \n",
       "        <td id=\"T_4dd9f142_c807_11e7_a227_22db378a6ce4row2_col8\" class=\"data row2 col8\" >False</td> \n",
       "        <td id=\"T_4dd9f142_c807_11e7_a227_22db378a6ce4row2_col9\" class=\"data row2 col9\" >False</td> \n",
       "        <td id=\"T_4dd9f142_c807_11e7_a227_22db378a6ce4row2_col10\" class=\"data row2 col10\" >False</td> \n",
       "        <td id=\"T_4dd9f142_c807_11e7_a227_22db378a6ce4row2_col11\" class=\"data row2 col11\" >False</td> \n",
       "        <td id=\"T_4dd9f142_c807_11e7_a227_22db378a6ce4row2_col12\" class=\"data row2 col12\" >False</td> \n",
       "        <td id=\"T_4dd9f142_c807_11e7_a227_22db378a6ce4row2_col13\" class=\"data row2 col13\" >False</td> \n",
       "        <td id=\"T_4dd9f142_c807_11e7_a227_22db378a6ce4row2_col14\" class=\"data row2 col14\" >False</td> \n",
       "        <td id=\"T_4dd9f142_c807_11e7_a227_22db378a6ce4row2_col15\" class=\"data row2 col15\" >False</td> \n",
       "        <td id=\"T_4dd9f142_c807_11e7_a227_22db378a6ce4row2_col16\" class=\"data row2 col16\" >False</td> \n",
       "        <td id=\"T_4dd9f142_c807_11e7_a227_22db378a6ce4row2_col17\" class=\"data row2 col17\" >False</td> \n",
       "        <td id=\"T_4dd9f142_c807_11e7_a227_22db378a6ce4row2_col18\" class=\"data row2 col18\" >False</td> \n",
       "        <td id=\"T_4dd9f142_c807_11e7_a227_22db378a6ce4row2_col19\" class=\"data row2 col19\" >False</td> \n",
       "        <td id=\"T_4dd9f142_c807_11e7_a227_22db378a6ce4row2_col20\" class=\"data row2 col20\" >False</td> \n",
       "        <td id=\"T_4dd9f142_c807_11e7_a227_22db378a6ce4row2_col21\" class=\"data row2 col21\" >False</td> \n",
       "        <td id=\"T_4dd9f142_c807_11e7_a227_22db378a6ce4row2_col22\" class=\"data row2 col22\" >False</td> \n",
       "        <td id=\"T_4dd9f142_c807_11e7_a227_22db378a6ce4row2_col23\" class=\"data row2 col23\" >False</td> \n",
       "        <td id=\"T_4dd9f142_c807_11e7_a227_22db378a6ce4row2_col24\" class=\"data row2 col24\" >False</td> \n",
       "        <td id=\"T_4dd9f142_c807_11e7_a227_22db378a6ce4row2_col25\" class=\"data row2 col25\" >False</td> \n",
       "        <td id=\"T_4dd9f142_c807_11e7_a227_22db378a6ce4row2_col26\" class=\"data row2 col26\" >False</td> \n",
       "        <td id=\"T_4dd9f142_c807_11e7_a227_22db378a6ce4row2_col27\" class=\"data row2 col27\" >False</td> \n",
       "        <td id=\"T_4dd9f142_c807_11e7_a227_22db378a6ce4row2_col28\" class=\"data row2 col28\" >False</td> \n",
       "        <td id=\"T_4dd9f142_c807_11e7_a227_22db378a6ce4row2_col29\" class=\"data row2 col29\" >False</td> \n",
       "    </tr>    <tr> \n",
       "        <th id=\"T_4dd9f142_c807_11e7_a227_22db378a6ce4\" class=\"row_heading level0 row3\" >3</th> \n",
       "        <td id=\"T_4dd9f142_c807_11e7_a227_22db378a6ce4row3_col0\" class=\"data row3 col0\" >Algeria</td> \n",
       "        <td id=\"T_4dd9f142_c807_11e7_a227_22db378a6ce4row3_col1\" class=\"data row3 col1\" >DZA</td> \n",
       "        <td id=\"T_4dd9f142_c807_11e7_a227_22db378a6ce4row3_col2\" class=\"data row3 col2\" >Northern Africa</td> \n",
       "        <td id=\"T_4dd9f142_c807_11e7_a227_22db378a6ce4row3_col3\" class=\"data row3 col3\" >Moroccan</td> \n",
       "        <td id=\"T_4dd9f142_c807_11e7_a227_22db378a6ce4row3_col4\" class=\"data row3 col4\" >False</td> \n",
       "        <td id=\"T_4dd9f142_c807_11e7_a227_22db378a6ce4row3_col5\" class=\"data row3 col5\" >False</td> \n",
       "        <td id=\"T_4dd9f142_c807_11e7_a227_22db378a6ce4row3_col6\" class=\"data row3 col6\" >False</td> \n",
       "        <td id=\"T_4dd9f142_c807_11e7_a227_22db378a6ce4row3_col7\" class=\"data row3 col7\" >False</td> \n",
       "        <td id=\"T_4dd9f142_c807_11e7_a227_22db378a6ce4row3_col8\" class=\"data row3 col8\" >False</td> \n",
       "        <td id=\"T_4dd9f142_c807_11e7_a227_22db378a6ce4row3_col9\" class=\"data row3 col9\" >False</td> \n",
       "        <td id=\"T_4dd9f142_c807_11e7_a227_22db378a6ce4row3_col10\" class=\"data row3 col10\" >False</td> \n",
       "        <td id=\"T_4dd9f142_c807_11e7_a227_22db378a6ce4row3_col11\" class=\"data row3 col11\" >False</td> \n",
       "        <td id=\"T_4dd9f142_c807_11e7_a227_22db378a6ce4row3_col12\" class=\"data row3 col12\" >False</td> \n",
       "        <td id=\"T_4dd9f142_c807_11e7_a227_22db378a6ce4row3_col13\" class=\"data row3 col13\" >False</td> \n",
       "        <td id=\"T_4dd9f142_c807_11e7_a227_22db378a6ce4row3_col14\" class=\"data row3 col14\" >False</td> \n",
       "        <td id=\"T_4dd9f142_c807_11e7_a227_22db378a6ce4row3_col15\" class=\"data row3 col15\" >False</td> \n",
       "        <td id=\"T_4dd9f142_c807_11e7_a227_22db378a6ce4row3_col16\" class=\"data row3 col16\" >False</td> \n",
       "        <td id=\"T_4dd9f142_c807_11e7_a227_22db378a6ce4row3_col17\" class=\"data row3 col17\" >False</td> \n",
       "        <td id=\"T_4dd9f142_c807_11e7_a227_22db378a6ce4row3_col18\" class=\"data row3 col18\" >False</td> \n",
       "        <td id=\"T_4dd9f142_c807_11e7_a227_22db378a6ce4row3_col19\" class=\"data row3 col19\" >False</td> \n",
       "        <td id=\"T_4dd9f142_c807_11e7_a227_22db378a6ce4row3_col20\" class=\"data row3 col20\" >False</td> \n",
       "        <td id=\"T_4dd9f142_c807_11e7_a227_22db378a6ce4row3_col21\" class=\"data row3 col21\" >False</td> \n",
       "        <td id=\"T_4dd9f142_c807_11e7_a227_22db378a6ce4row3_col22\" class=\"data row3 col22\" >True</td> \n",
       "        <td id=\"T_4dd9f142_c807_11e7_a227_22db378a6ce4row3_col23\" class=\"data row3 col23\" >False</td> \n",
       "        <td id=\"T_4dd9f142_c807_11e7_a227_22db378a6ce4row3_col24\" class=\"data row3 col24\" >False</td> \n",
       "        <td id=\"T_4dd9f142_c807_11e7_a227_22db378a6ce4row3_col25\" class=\"data row3 col25\" >False</td> \n",
       "        <td id=\"T_4dd9f142_c807_11e7_a227_22db378a6ce4row3_col26\" class=\"data row3 col26\" >False</td> \n",
       "        <td id=\"T_4dd9f142_c807_11e7_a227_22db378a6ce4row3_col27\" class=\"data row3 col27\" >False</td> \n",
       "        <td id=\"T_4dd9f142_c807_11e7_a227_22db378a6ce4row3_col28\" class=\"data row3 col28\" >False</td> \n",
       "        <td id=\"T_4dd9f142_c807_11e7_a227_22db378a6ce4row3_col29\" class=\"data row3 col29\" >False</td> \n",
       "    </tr>    <tr> \n",
       "        <th id=\"T_4dd9f142_c807_11e7_a227_22db378a6ce4\" class=\"row_heading level0 row4\" >4</th> \n",
       "        <td id=\"T_4dd9f142_c807_11e7_a227_22db378a6ce4row4_col0\" class=\"data row4 col0\" >American Samoa</td> \n",
       "        <td id=\"T_4dd9f142_c807_11e7_a227_22db378a6ce4row4_col1\" class=\"data row4 col1\" >ASM</td> \n",
       "        <td id=\"T_4dd9f142_c807_11e7_a227_22db378a6ce4row4_col2\" class=\"data row4 col2\" >Oceania</td> \n",
       "        <td id=\"T_4dd9f142_c807_11e7_a227_22db378a6ce4row4_col3\" class=\"data row4 col3\" >American</td> \n",
       "        <td id=\"T_4dd9f142_c807_11e7_a227_22db378a6ce4row4_col4\" class=\"data row4 col4\" >True</td> \n",
       "        <td id=\"T_4dd9f142_c807_11e7_a227_22db378a6ce4row4_col5\" class=\"data row4 col5\" >False</td> \n",
       "        <td id=\"T_4dd9f142_c807_11e7_a227_22db378a6ce4row4_col6\" class=\"data row4 col6\" >False</td> \n",
       "        <td id=\"T_4dd9f142_c807_11e7_a227_22db378a6ce4row4_col7\" class=\"data row4 col7\" >False</td> \n",
       "        <td id=\"T_4dd9f142_c807_11e7_a227_22db378a6ce4row4_col8\" class=\"data row4 col8\" >False</td> \n",
       "        <td id=\"T_4dd9f142_c807_11e7_a227_22db378a6ce4row4_col9\" class=\"data row4 col9\" >False</td> \n",
       "        <td id=\"T_4dd9f142_c807_11e7_a227_22db378a6ce4row4_col10\" class=\"data row4 col10\" >False</td> \n",
       "        <td id=\"T_4dd9f142_c807_11e7_a227_22db378a6ce4row4_col11\" class=\"data row4 col11\" >False</td> \n",
       "        <td id=\"T_4dd9f142_c807_11e7_a227_22db378a6ce4row4_col12\" class=\"data row4 col12\" >False</td> \n",
       "        <td id=\"T_4dd9f142_c807_11e7_a227_22db378a6ce4row4_col13\" class=\"data row4 col13\" >False</td> \n",
       "        <td id=\"T_4dd9f142_c807_11e7_a227_22db378a6ce4row4_col14\" class=\"data row4 col14\" >False</td> \n",
       "        <td id=\"T_4dd9f142_c807_11e7_a227_22db378a6ce4row4_col15\" class=\"data row4 col15\" >False</td> \n",
       "        <td id=\"T_4dd9f142_c807_11e7_a227_22db378a6ce4row4_col16\" class=\"data row4 col16\" >False</td> \n",
       "        <td id=\"T_4dd9f142_c807_11e7_a227_22db378a6ce4row4_col17\" class=\"data row4 col17\" >False</td> \n",
       "        <td id=\"T_4dd9f142_c807_11e7_a227_22db378a6ce4row4_col18\" class=\"data row4 col18\" >False</td> \n",
       "        <td id=\"T_4dd9f142_c807_11e7_a227_22db378a6ce4row4_col19\" class=\"data row4 col19\" >False</td> \n",
       "        <td id=\"T_4dd9f142_c807_11e7_a227_22db378a6ce4row4_col20\" class=\"data row4 col20\" >False</td> \n",
       "        <td id=\"T_4dd9f142_c807_11e7_a227_22db378a6ce4row4_col21\" class=\"data row4 col21\" >False</td> \n",
       "        <td id=\"T_4dd9f142_c807_11e7_a227_22db378a6ce4row4_col22\" class=\"data row4 col22\" >False</td> \n",
       "        <td id=\"T_4dd9f142_c807_11e7_a227_22db378a6ce4row4_col23\" class=\"data row4 col23\" >False</td> \n",
       "        <td id=\"T_4dd9f142_c807_11e7_a227_22db378a6ce4row4_col24\" class=\"data row4 col24\" >False</td> \n",
       "        <td id=\"T_4dd9f142_c807_11e7_a227_22db378a6ce4row4_col25\" class=\"data row4 col25\" >False</td> \n",
       "        <td id=\"T_4dd9f142_c807_11e7_a227_22db378a6ce4row4_col26\" class=\"data row4 col26\" >False</td> \n",
       "        <td id=\"T_4dd9f142_c807_11e7_a227_22db378a6ce4row4_col27\" class=\"data row4 col27\" >False</td> \n",
       "        <td id=\"T_4dd9f142_c807_11e7_a227_22db378a6ce4row4_col28\" class=\"data row4 col28\" >False</td> \n",
       "        <td id=\"T_4dd9f142_c807_11e7_a227_22db378a6ce4row4_col29\" class=\"data row4 col29\" >False</td> \n",
       "    </tr></tbody> \n",
       "</table> "
      ],
      "text/plain": [
       "<prettypandas.styler.PrettyPandas at 0x7f97668c2310>"
      ]
     },
     "execution_count": 383,
     "metadata": {},
     "output_type": "execute_result"
    }
   ],
   "source": [
    "PrettyPandas(country_info.head(5))"
   ]
  },
  {
   "cell_type": "code",
   "execution_count": 384,
   "metadata": {
    "collapsed": false
   },
   "outputs": [],
   "source": [
    "all_cuisines = []\n",
    "for cuisine in cuisine_df.name:\n",
    "    if cuisine == 'Kid-Friendly':\n",
    "        cuisine = 'Undefined'\n",
    "    cuisine_countries = [cuisine]\n",
    "    tmp_df = country_info[country_info[cuisine] == True]\n",
    "    cuisine_countries.append(tmp_df['Country'].values.tolist())\n",
    "    #print cuisine_countries\n",
    "    all_cuisines.append(cuisine_countries)"
   ]
  },
  {
   "cell_type": "code",
   "execution_count": 385,
   "metadata": {
    "collapsed": false
   },
   "outputs": [],
   "source": [
    "cuisine_by_country_df = pd.DataFrame(all_cuisines)"
   ]
  },
  {
   "cell_type": "code",
   "execution_count": 81,
   "metadata": {
    "collapsed": false,
    "scrolled": false
   },
   "outputs": [
    {
     "data": {
      "text/html": [
       "<style  type=\"text/css\" >\n",
       "    #T_75c6c322_c69c_11e7_a227_22db378a6ce4 th {\n",
       "          background: #eee;\n",
       "          font-weight: 500;\n",
       "    }    #T_75c6c322_c69c_11e7_a227_22db378a6ce4 td {\n",
       "          text-align: right;\n",
       "          min-width: 3em;\n",
       "    }    #T_75c6c322_c69c_11e7_a227_22db378a6ce4 * {\n",
       "          border-color: #c0c0c0;\n",
       "    }</style>  \n",
       "<table id=\"T_75c6c322_c69c_11e7_a227_22db378a6ce4\" > \n",
       "<thead>    <tr> \n",
       "        <th class=\"blank level0\" ></th> \n",
       "        <th class=\"col_heading level0 col0\" >0</th> \n",
       "        <th class=\"col_heading level0 col1\" >1</th> \n",
       "    </tr></thead> \n",
       "<tbody>    <tr> \n",
       "        <th id=\"T_75c6c322_c69c_11e7_a227_22db378a6ce4\" class=\"row_heading level0 row0\" >0</th> \n",
       "        <td id=\"T_75c6c322_c69c_11e7_a227_22db378a6ce4row0_col0\" class=\"data row0 col0\" >American</td> \n",
       "        <td id=\"T_75c6c322_c69c_11e7_a227_22db378a6ce4row0_col1\" class=\"data row0 col1\" >[u'American Samoa', u'Bermuda', u'Canada', u'Guam', u'United States of America', u'US Minor Outlying Islands', u'Virgin Islands, US']</td> \n",
       "    </tr>    <tr> \n",
       "        <th id=\"T_75c6c322_c69c_11e7_a227_22db378a6ce4\" class=\"row_heading level0 row1\" >1</th> \n",
       "        <td id=\"T_75c6c322_c69c_11e7_a227_22db378a6ce4row1_col0\" class=\"data row1 col0\" >Undefined</td> \n",
       "        <td id=\"T_75c6c322_c69c_11e7_a227_22db378a6ce4row1_col1\" class=\"data row1 col1\" >[u'Albania', u'Andorra', u'Angola', u'Antarctica', u'Armenia', u'Azerbaijan', u'Bahrain', u'Belarus', u'Benin', u'Bhutan', u'Bosnia and Herzegovina', u'Botswana', u'Bouvet Island', u'British Indian Ocean Territory', u'Burkina Faso', u'Burundi', u'Cameroon', u'Cape Verde', u'Central African Republic', u'Chad', u'Comoros', u'Congo\\xa0(Brazzaville)', u'Congo, (Kinshasa)', u\"C\\xf4te d'Ivoire\", u'Croatia', u'Djibouti', u'Equatorial Guinea', u'Eritrea', u'Ethiopia', u'Faroe Islands', u'French Southern Territories', u'Gabon', u'Gambia', u'Georgia', u'Ghana', u'Guinea', u'Guinea-Bissau', u'Heard and Mcdonald Islands', u'Iran, Islamic Republic of', u'Iraq', u'Israel', u'Jordan', u'Kazakhstan', u'Kenya', u'Kuwait', u'Kyrgyzstan', u'Lebanon', u'Lesotho', u'Liberia', u'Madagascar', u'Malawi', u'Mali', u'Mauritania', u'Mayotte', u'Moldova', u'Montenegro', u'Mozambique', u'Namibia', u'Niger', u'Nigeria', u'Northern Mariana Islands', u'Oman', u'Palestinian Territory', u'Qatar', u'Russian Federation', u'Rwanda', u'Saint Helena', u'Saint Pierre and Miquelon', u'San Marino', u'Sao Tome and Principe', u'Saudi Arabia', u'Senegal', u'Serbia', u'Sierra Leone', u'Somalia', u'South Georgia and the South Sandwich Islands', u'Svalbard and Jan Mayen Islands', u'Swaziland', u'Syrian Arab Republic\\xa0(Syria)', u'Tajikistan', u'Tanzania, United Republic of', u'Togo', u'Turkmenistan', u'Uganda', u'Ukraine', u'United Arab Emirates', u'Uzbekistan', u'Yemen', u'Zambia', u'Zimbabwe']</td> \n",
       "    </tr>    <tr> \n",
       "        <th id=\"T_75c6c322_c69c_11e7_a227_22db378a6ce4\" class=\"row_heading level0 row2\" >2</th> \n",
       "        <td id=\"T_75c6c322_c69c_11e7_a227_22db378a6ce4row2_col0\" class=\"data row2 col0\" >Italian</td> \n",
       "        <td id=\"T_75c6c322_c69c_11e7_a227_22db378a6ce4row2_col1\" class=\"data row2 col1\" >[u'Holy See\\xa0(Vatican City State)', u'Italy', u'Monaco']</td> \n",
       "    </tr>    <tr> \n",
       "        <th id=\"T_75c6c322_c69c_11e7_a227_22db378a6ce4\" class=\"row_heading level0 row3\" >3</th> \n",
       "        <td id=\"T_75c6c322_c69c_11e7_a227_22db378a6ce4row3_col0\" class=\"data row3 col0\" >Asian</td> \n",
       "        <td id=\"T_75c6c322_c69c_11e7_a227_22db378a6ce4row3_col1\" class=\"data row3 col1\" >[u'Afghanistan', u'Brunei Darussalam', u'Malaysia', u'Mongolia', u'Philippines']</td> \n",
       "    </tr>    <tr> \n",
       "        <th id=\"T_75c6c322_c69c_11e7_a227_22db378a6ce4\" class=\"row_heading level0 row4\" >4</th> \n",
       "        <td id=\"T_75c6c322_c69c_11e7_a227_22db378a6ce4row4_col0\" class=\"data row4 col0\" >Mexican</td> \n",
       "        <td id=\"T_75c6c322_c69c_11e7_a227_22db378a6ce4row4_col1\" class=\"data row4 col1\" >[u'Belize', u'Costa Rica', u'El Salvador', u'Guatemala', u'Honduras', u'Mexico', u'Nicaragua', u'Panama']</td> \n",
       "    </tr>    <tr> \n",
       "        <th id=\"T_75c6c322_c69c_11e7_a227_22db378a6ce4\" class=\"row_heading level0 row5\" >5</th> \n",
       "        <td id=\"T_75c6c322_c69c_11e7_a227_22db378a6ce4row5_col0\" class=\"data row5 col0\" >Southern & Soul Food</td> \n",
       "        <td id=\"T_75c6c322_c69c_11e7_a227_22db378a6ce4row5_col1\" class=\"data row5 col1\" >[]</td> \n",
       "    </tr>    <tr> \n",
       "        <th id=\"T_75c6c322_c69c_11e7_a227_22db378a6ce4\" class=\"row_heading level0 row6\" >6</th> \n",
       "        <td id=\"T_75c6c322_c69c_11e7_a227_22db378a6ce4row6_col0\" class=\"data row6 col0\" >French</td> \n",
       "        <td id=\"T_75c6c322_c69c_11e7_a227_22db378a6ce4row6_col1\" class=\"data row6 col1\" >[u'Belgium', u'France', u'Monaco', u'R\\xe9union', u'Saint-Martin (French part)', u'Seychelles', u'Switzerland']</td> \n",
       "    </tr>    <tr> \n",
       "        <th id=\"T_75c6c322_c69c_11e7_a227_22db378a6ce4\" class=\"row_heading level0 row7\" >7</th> \n",
       "        <td id=\"T_75c6c322_c69c_11e7_a227_22db378a6ce4row7_col0\" class=\"data row7 col0\" >Southwestern</td> \n",
       "        <td id=\"T_75c6c322_c69c_11e7_a227_22db378a6ce4row7_col1\" class=\"data row7 col1\" >[u'Argentina', u'Bolivia', u'Brazil', u'Chile', u'Colombia', u'Ecuador', u'French Guiana', u'Guyana', u'Paraguay', u'Peru', u'Suriname', u'Uruguay', u'Venezuela\\xa0(Bolivarian Republic)']</td> \n",
       "    </tr>    <tr> \n",
       "        <th id=\"T_75c6c322_c69c_11e7_a227_22db378a6ce4\" class=\"row_heading level0 row8\" >8</th> \n",
       "        <td id=\"T_75c6c322_c69c_11e7_a227_22db378a6ce4row8_col0\" class=\"data row8 col0\" >Barbecue</td> \n",
       "        <td id=\"T_75c6c322_c69c_11e7_a227_22db378a6ce4row8_col1\" class=\"data row8 col1\" >[]</td> \n",
       "    </tr>    <tr> \n",
       "        <th id=\"T_75c6c322_c69c_11e7_a227_22db378a6ce4\" class=\"row_heading level0 row9\" >9</th> \n",
       "        <td id=\"T_75c6c322_c69c_11e7_a227_22db378a6ce4row9_col0\" class=\"data row9 col0\" >Indian</td> \n",
       "        <td id=\"T_75c6c322_c69c_11e7_a227_22db378a6ce4row9_col1\" class=\"data row9 col1\" >[u'Australia', u'Bangladesh', u'Christmas Island', u'Cocos (Keeling) Islands', u'India', u'Maldives', u'Mauritius', u'Nepal', u'Pakistan', u'Singapore', u'South Africa', u'Sri Lanka']</td> \n",
       "    </tr>    <tr> \n",
       "        <th id=\"T_75c6c322_c69c_11e7_a227_22db378a6ce4\" class=\"row_heading level0 row10\" >10</th> \n",
       "        <td id=\"T_75c6c322_c69c_11e7_a227_22db378a6ce4row10_col0\" class=\"data row10 col0\" >Chinese</td> \n",
       "        <td id=\"T_75c6c322_c69c_11e7_a227_22db378a6ce4row10_col1\" class=\"data row10 col1\" >[u'Australia', u'China', u'Hong Kong, SAR China', u'Macao, SAR China', u'Christmas Island', u'Cocos (Keeling) Islands', u'Korea\\xa0(North)', u'Korea\\xa0(South)', u'Malaysia', u'Singapore', u'Taiwan, Republic of China', u'Viet Nam']</td> \n",
       "    </tr>    <tr> \n",
       "        <th id=\"T_75c6c322_c69c_11e7_a227_22db378a6ce4\" class=\"row_heading level0 row11\" >11</th> \n",
       "        <td id=\"T_75c6c322_c69c_11e7_a227_22db378a6ce4row11_col0\" class=\"data row11 col0\" >Cajun & Creole</td> \n",
       "        <td id=\"T_75c6c322_c69c_11e7_a227_22db378a6ce4row11_col1\" class=\"data row11 col1\" >[]</td> \n",
       "    </tr>    <tr> \n",
       "        <th id=\"T_75c6c322_c69c_11e7_a227_22db378a6ce4\" class=\"row_heading level0 row12\" >12</th> \n",
       "        <td id=\"T_75c6c322_c69c_11e7_a227_22db378a6ce4row12_col0\" class=\"data row12 col0\" >Mediterranean</td> \n",
       "        <td id=\"T_75c6c322_c69c_11e7_a227_22db378a6ce4row12_col1\" class=\"data row12 col1\" >[u'Turkey']</td> \n",
       "    </tr>    <tr> \n",
       "        <th id=\"T_75c6c322_c69c_11e7_a227_22db378a6ce4\" class=\"row_heading level0 row13\" >13</th> \n",
       "        <td id=\"T_75c6c322_c69c_11e7_a227_22db378a6ce4row13_col0\" class=\"data row13 col0\" >Greek</td> \n",
       "        <td id=\"T_75c6c322_c69c_11e7_a227_22db378a6ce4row13_col1\" class=\"data row13 col1\" >[u'Cyprus', u'Greece', u'Macedonia, Republic of']</td> \n",
       "    </tr>    <tr> \n",
       "        <th id=\"T_75c6c322_c69c_11e7_a227_22db378a6ce4\" class=\"row_heading level0 row14\" >14</th> \n",
       "        <td id=\"T_75c6c322_c69c_11e7_a227_22db378a6ce4row14_col0\" class=\"data row14 col0\" >English</td> \n",
       "        <td id=\"T_75c6c322_c69c_11e7_a227_22db378a6ce4row14_col1\" class=\"data row14 col1\" >[u'Australia', u'British Virgin Islands', u'Christmas Island', u'Cocos (Keeling) Islands', u'Falkland Islands (Malvinas)', u'Guernsey', u'Isle of Man', u'Jersey', u'New Zealand', u'Norfolk Island', u'Pitcairn', u'South Africa', u'United Kingdom']</td> \n",
       "    </tr>    <tr> \n",
       "        <th id=\"T_75c6c322_c69c_11e7_a227_22db378a6ce4\" class=\"row_heading level0 row15\" >15</th> \n",
       "        <td id=\"T_75c6c322_c69c_11e7_a227_22db378a6ce4row15_col0\" class=\"data row15 col0\" >Spanish</td> \n",
       "        <td id=\"T_75c6c322_c69c_11e7_a227_22db378a6ce4row15_col1\" class=\"data row15 col1\" >[u'Spain']</td> \n",
       "    </tr>    <tr> \n",
       "        <th id=\"T_75c6c322_c69c_11e7_a227_22db378a6ce4\" class=\"row_heading level0 row16\" >16</th> \n",
       "        <td id=\"T_75c6c322_c69c_11e7_a227_22db378a6ce4row16_col0\" class=\"data row16 col0\" >Thai</td> \n",
       "        <td id=\"T_75c6c322_c69c_11e7_a227_22db378a6ce4row16_col1\" class=\"data row16 col1\" >[u'Australia', u'Cambodia', u'Christmas Island', u'Cocos (Keeling) Islands', u'Indonesia', u'Lao PDR', u'Myanmar', u'Thailand', u'Viet Nam']</td> \n",
       "    </tr>    <tr> \n",
       "        <th id=\"T_75c6c322_c69c_11e7_a227_22db378a6ce4\" class=\"row_heading level0 row17\" >17</th> \n",
       "        <td id=\"T_75c6c322_c69c_11e7_a227_22db378a6ce4row17_col0\" class=\"data row17 col0\" >German</td> \n",
       "        <td id=\"T_75c6c322_c69c_11e7_a227_22db378a6ce4row17_col1\" class=\"data row17 col1\" >[u'Austria', u'Germany', u'Liechtenstein', u'Luxembourg', u'Netherlands', u'South Africa', u'Switzerland']</td> \n",
       "    </tr>    <tr> \n",
       "        <th id=\"T_75c6c322_c69c_11e7_a227_22db378a6ce4\" class=\"row_heading level0 row18\" >18</th> \n",
       "        <td id=\"T_75c6c322_c69c_11e7_a227_22db378a6ce4row18_col0\" class=\"data row18 col0\" >Moroccan</td> \n",
       "        <td id=\"T_75c6c322_c69c_11e7_a227_22db378a6ce4row18_col1\" class=\"data row18 col1\" >[u'Algeria', u'Egypt', u'Libya', u'Malta', u'Morocco', u'South Sudan', u'Sudan', u'Tunisia', u'Western Sahara']</td> \n",
       "    </tr>    <tr> \n",
       "        <th id=\"T_75c6c322_c69c_11e7_a227_22db378a6ce4\" class=\"row_heading level0 row19\" >19</th> \n",
       "        <td id=\"T_75c6c322_c69c_11e7_a227_22db378a6ce4row19_col0\" class=\"data row19 col0\" >Irish</td> \n",
       "        <td id=\"T_75c6c322_c69c_11e7_a227_22db378a6ce4row19_col1\" class=\"data row19 col1\" >[u'Ireland']</td> \n",
       "    </tr>    <tr> \n",
       "        <th id=\"T_75c6c322_c69c_11e7_a227_22db378a6ce4\" class=\"row_heading level0 row20\" >20</th> \n",
       "        <td id=\"T_75c6c322_c69c_11e7_a227_22db378a6ce4row20_col0\" class=\"data row20 col0\" >Japanese</td> \n",
       "        <td id=\"T_75c6c322_c69c_11e7_a227_22db378a6ce4row20_col1\" class=\"data row20 col1\" >[u'Japan']</td> \n",
       "    </tr>    <tr> \n",
       "        <th id=\"T_75c6c322_c69c_11e7_a227_22db378a6ce4\" class=\"row_heading level0 row21\" >21</th> \n",
       "        <td id=\"T_75c6c322_c69c_11e7_a227_22db378a6ce4row21_col0\" class=\"data row21 col0\" >Cuban</td> \n",
       "        <td id=\"T_75c6c322_c69c_11e7_a227_22db378a6ce4row21_col1\" class=\"data row21 col1\" >[u'Anguilla', u'Antigua and Barbuda', u'Argentina', u'Aruba', u'Bahamas', u'Barbados', u'Bolivia', u'Brazil', u'British Virgin Islands', u'Cayman Islands', u'Chile', u'Colombia', u'Cuba', u'Dominica', u'Dominican Republic', u'Ecuador', u'French Guiana', u'Grenada', u'Guadeloupe', u'Guyana', u'Haiti', u'Jamaica', u'Martinique', u'Montserrat', u'Netherlands Antilles', u'Paraguay', u'Peru', u'Puerto Rico', u'Saint-Barth\\xe9lemy', u'Saint Kitts and Nevis', u'Saint Lucia', u'Saint-Martin (French part)', u'Saint Vincent and Grenadines', u'Suriname', u'Trinidad and Tobago', u'Turks and Caicos Islands', u'Uruguay', u'Venezuela\\xa0(Bolivarian Republic)']</td> \n",
       "    </tr>    <tr> \n",
       "        <th id=\"T_75c6c322_c69c_11e7_a227_22db378a6ce4\" class=\"row_heading level0 row22\" >22</th> \n",
       "        <td id=\"T_75c6c322_c69c_11e7_a227_22db378a6ce4row22_col0\" class=\"data row22 col0\" >Hawaiian</td> \n",
       "        <td id=\"T_75c6c322_c69c_11e7_a227_22db378a6ce4row22_col1\" class=\"data row22 col1\" >[u'Cook Islands', u'Fiji', u'French Polynesia', u'Guam', u'Kiribati', u'Marshall Islands', u'Micronesia, Federated States of', u'Nauru', u'New Caledonia', u'New Zealand', u'Niue', u'Palau', u'Papua New Guinea', u'Samoa', u'Solomon Islands', u'Timor-Leste', u'Tokelau', u'Tonga', u'Tuvalu', u'Vanuatu', u'Wallis and Futuna Islands']</td> \n",
       "    </tr>    <tr> \n",
       "        <th id=\"T_75c6c322_c69c_11e7_a227_22db378a6ce4\" class=\"row_heading level0 row23\" >23</th> \n",
       "        <td id=\"T_75c6c322_c69c_11e7_a227_22db378a6ce4row23_col0\" class=\"data row23 col0\" >Swedish</td> \n",
       "        <td id=\"T_75c6c322_c69c_11e7_a227_22db378a6ce4row23_col1\" class=\"data row23 col1\" >[u'Aland Islands', u'Denmark', u'Estonia', u'Finland', u'Greenland', u'Iceland', u'Norway', u'Sweden']</td> \n",
       "    </tr>    <tr> \n",
       "        <th id=\"T_75c6c322_c69c_11e7_a227_22db378a6ce4\" class=\"row_heading level0 row24\" >24</th> \n",
       "        <td id=\"T_75c6c322_c69c_11e7_a227_22db378a6ce4row24_col0\" class=\"data row24 col0\" >Hungarian</td> \n",
       "        <td id=\"T_75c6c322_c69c_11e7_a227_22db378a6ce4row24_col1\" class=\"data row24 col1\" >[u'Bulgaria', u'Czech Republic', u'Hungary', u'Latvia', u'Lithuania', u'Poland', u'Romania', u'Slovakia', u'Slovenia']</td> \n",
       "    </tr>    <tr> \n",
       "        <th id=\"T_75c6c322_c69c_11e7_a227_22db378a6ce4\" class=\"row_heading level0 row25\" >25</th> \n",
       "        <td id=\"T_75c6c322_c69c_11e7_a227_22db378a6ce4row25_col0\" class=\"data row25 col0\" >Portuguese</td> \n",
       "        <td id=\"T_75c6c322_c69c_11e7_a227_22db378a6ce4row25_col1\" class=\"data row25 col1\" >[u'Gibraltar', u'Portugal']</td> \n",
       "    </tr></tbody> \n",
       "</table> "
      ],
      "text/plain": [
       "<prettypandas.styler.PrettyPandas at 0x7f976a3fe050>"
      ]
     },
     "execution_count": 81,
     "metadata": {},
     "output_type": "execute_result"
    }
   ],
   "source": [
    "PrettyPandas(cuisine_by_country_df)"
   ]
  },
  {
   "cell_type": "code",
   "execution_count": 117,
   "metadata": {
    "collapsed": false
   },
   "outputs": [
    {
     "data": {
      "text/html": [
       "<div>\n",
       "<style>\n",
       "    .dataframe thead tr:only-child th {\n",
       "        text-align: right;\n",
       "    }\n",
       "\n",
       "    .dataframe thead th {\n",
       "        text-align: left;\n",
       "    }\n",
       "\n",
       "    .dataframe tbody tr th {\n",
       "        vertical-align: top;\n",
       "    }\n",
       "</style>\n",
       "<table border=\"1\" class=\"dataframe\">\n",
       "  <thead>\n",
       "    <tr style=\"text-align: right;\">\n",
       "      <th></th>\n",
       "      <th>description</th>\n",
       "      <th>id</th>\n",
       "      <th>localesAvailableIn</th>\n",
       "      <th>name</th>\n",
       "      <th>searchValue</th>\n",
       "      <th>type</th>\n",
       "    </tr>\n",
       "  </thead>\n",
       "  <tbody>\n",
       "    <tr>\n",
       "      <th>0</th>\n",
       "      <td>American</td>\n",
       "      <td>cuisine-american</td>\n",
       "      <td>[en-US]</td>\n",
       "      <td>American</td>\n",
       "      <td>cuisine^cuisine-american</td>\n",
       "      <td>cuisine</td>\n",
       "    </tr>\n",
       "    <tr>\n",
       "      <th>1</th>\n",
       "      <td>Kid-Friendly</td>\n",
       "      <td>cuisine-kid-friendly</td>\n",
       "      <td>[en-US]</td>\n",
       "      <td>Kid-Friendly</td>\n",
       "      <td>cuisine^cuisine-kid-friendly</td>\n",
       "      <td>cuisine</td>\n",
       "    </tr>\n",
       "    <tr>\n",
       "      <th>2</th>\n",
       "      <td>Italian</td>\n",
       "      <td>cuisine-italian</td>\n",
       "      <td>[en-US]</td>\n",
       "      <td>Italian</td>\n",
       "      <td>cuisine^cuisine-italian</td>\n",
       "      <td>cuisine</td>\n",
       "    </tr>\n",
       "    <tr>\n",
       "      <th>3</th>\n",
       "      <td>Asian</td>\n",
       "      <td>cuisine-asian</td>\n",
       "      <td>[en-US]</td>\n",
       "      <td>Asian</td>\n",
       "      <td>cuisine^cuisine-asian</td>\n",
       "      <td>cuisine</td>\n",
       "    </tr>\n",
       "    <tr>\n",
       "      <th>4</th>\n",
       "      <td>Mexican</td>\n",
       "      <td>cuisine-mexican</td>\n",
       "      <td>[en-US]</td>\n",
       "      <td>Mexican</td>\n",
       "      <td>cuisine^cuisine-mexican</td>\n",
       "      <td>cuisine</td>\n",
       "    </tr>\n",
       "    <tr>\n",
       "      <th>5</th>\n",
       "      <td>Southern &amp; Soul Food</td>\n",
       "      <td>cuisine-southern</td>\n",
       "      <td>[en-US]</td>\n",
       "      <td>Southern &amp; Soul Food</td>\n",
       "      <td>cuisine^cuisine-southern</td>\n",
       "      <td>cuisine</td>\n",
       "    </tr>\n",
       "    <tr>\n",
       "      <th>6</th>\n",
       "      <td>French</td>\n",
       "      <td>cuisine-french</td>\n",
       "      <td>[en-US]</td>\n",
       "      <td>French</td>\n",
       "      <td>cuisine^cuisine-french</td>\n",
       "      <td>cuisine</td>\n",
       "    </tr>\n",
       "    <tr>\n",
       "      <th>7</th>\n",
       "      <td>Southwestern</td>\n",
       "      <td>cuisine-southwestern</td>\n",
       "      <td>[en-US]</td>\n",
       "      <td>Southwestern</td>\n",
       "      <td>cuisine^cuisine-southwestern</td>\n",
       "      <td>cuisine</td>\n",
       "    </tr>\n",
       "    <tr>\n",
       "      <th>8</th>\n",
       "      <td>Barbecue</td>\n",
       "      <td>cuisine-barbecue-bbq</td>\n",
       "      <td>[en-US]</td>\n",
       "      <td>Barbecue</td>\n",
       "      <td>cuisine^cuisine-barbecue-bbq</td>\n",
       "      <td>cuisine</td>\n",
       "    </tr>\n",
       "    <tr>\n",
       "      <th>9</th>\n",
       "      <td>Indian</td>\n",
       "      <td>cuisine-indian</td>\n",
       "      <td>[en-US]</td>\n",
       "      <td>Indian</td>\n",
       "      <td>cuisine^cuisine-indian</td>\n",
       "      <td>cuisine</td>\n",
       "    </tr>\n",
       "    <tr>\n",
       "      <th>10</th>\n",
       "      <td>Chinese</td>\n",
       "      <td>cuisine-chinese</td>\n",
       "      <td>[en-US]</td>\n",
       "      <td>Chinese</td>\n",
       "      <td>cuisine^cuisine-chinese</td>\n",
       "      <td>cuisine</td>\n",
       "    </tr>\n",
       "    <tr>\n",
       "      <th>11</th>\n",
       "      <td>Cajun &amp; Creole</td>\n",
       "      <td>cuisine-cajun</td>\n",
       "      <td>[en-US]</td>\n",
       "      <td>Cajun &amp; Creole</td>\n",
       "      <td>cuisine^cuisine-cajun</td>\n",
       "      <td>cuisine</td>\n",
       "    </tr>\n",
       "    <tr>\n",
       "      <th>12</th>\n",
       "      <td>Mediterranean</td>\n",
       "      <td>cuisine-mediterranean</td>\n",
       "      <td>[en-US]</td>\n",
       "      <td>Mediterranean</td>\n",
       "      <td>cuisine^cuisine-mediterranean</td>\n",
       "      <td>cuisine</td>\n",
       "    </tr>\n",
       "    <tr>\n",
       "      <th>13</th>\n",
       "      <td>Greek</td>\n",
       "      <td>cuisine-greek</td>\n",
       "      <td>[en-US]</td>\n",
       "      <td>Greek</td>\n",
       "      <td>cuisine^cuisine-greek</td>\n",
       "      <td>cuisine</td>\n",
       "    </tr>\n",
       "    <tr>\n",
       "      <th>14</th>\n",
       "      <td>English</td>\n",
       "      <td>cuisine-english</td>\n",
       "      <td>[en-US]</td>\n",
       "      <td>English</td>\n",
       "      <td>cuisine^cuisine-english</td>\n",
       "      <td>cuisine</td>\n",
       "    </tr>\n",
       "    <tr>\n",
       "      <th>15</th>\n",
       "      <td>Spanish</td>\n",
       "      <td>cuisine-spanish</td>\n",
       "      <td>[en-US]</td>\n",
       "      <td>Spanish</td>\n",
       "      <td>cuisine^cuisine-spanish</td>\n",
       "      <td>cuisine</td>\n",
       "    </tr>\n",
       "    <tr>\n",
       "      <th>16</th>\n",
       "      <td>Thai</td>\n",
       "      <td>cuisine-thai</td>\n",
       "      <td>[en-US]</td>\n",
       "      <td>Thai</td>\n",
       "      <td>cuisine^cuisine-thai</td>\n",
       "      <td>cuisine</td>\n",
       "    </tr>\n",
       "    <tr>\n",
       "      <th>17</th>\n",
       "      <td>German</td>\n",
       "      <td>cuisine-german</td>\n",
       "      <td>[en-US]</td>\n",
       "      <td>German</td>\n",
       "      <td>cuisine^cuisine-german</td>\n",
       "      <td>cuisine</td>\n",
       "    </tr>\n",
       "    <tr>\n",
       "      <th>18</th>\n",
       "      <td>Moroccan</td>\n",
       "      <td>cuisine-moroccan</td>\n",
       "      <td>[en-US]</td>\n",
       "      <td>Moroccan</td>\n",
       "      <td>cuisine^cuisine-moroccan</td>\n",
       "      <td>cuisine</td>\n",
       "    </tr>\n",
       "    <tr>\n",
       "      <th>19</th>\n",
       "      <td>Irish</td>\n",
       "      <td>cuisine-irish</td>\n",
       "      <td>[en-US]</td>\n",
       "      <td>Irish</td>\n",
       "      <td>cuisine^cuisine-irish</td>\n",
       "      <td>cuisine</td>\n",
       "    </tr>\n",
       "    <tr>\n",
       "      <th>20</th>\n",
       "      <td>Japanese</td>\n",
       "      <td>cuisine-japanese</td>\n",
       "      <td>[en-US]</td>\n",
       "      <td>Japanese</td>\n",
       "      <td>cuisine^cuisine-japanese</td>\n",
       "      <td>cuisine</td>\n",
       "    </tr>\n",
       "    <tr>\n",
       "      <th>21</th>\n",
       "      <td>Cuban</td>\n",
       "      <td>cuisine-cuban</td>\n",
       "      <td>[en-US]</td>\n",
       "      <td>Cuban</td>\n",
       "      <td>cuisine^cuisine-cuban</td>\n",
       "      <td>cuisine</td>\n",
       "    </tr>\n",
       "    <tr>\n",
       "      <th>22</th>\n",
       "      <td>Hawaiian</td>\n",
       "      <td>cuisine-hawaiian</td>\n",
       "      <td>[en-US]</td>\n",
       "      <td>Hawaiian</td>\n",
       "      <td>cuisine^cuisine-hawaiian</td>\n",
       "      <td>cuisine</td>\n",
       "    </tr>\n",
       "    <tr>\n",
       "      <th>23</th>\n",
       "      <td>Swedish</td>\n",
       "      <td>cuisine-swedish</td>\n",
       "      <td>[en-US]</td>\n",
       "      <td>Swedish</td>\n",
       "      <td>cuisine^cuisine-swedish</td>\n",
       "      <td>cuisine</td>\n",
       "    </tr>\n",
       "    <tr>\n",
       "      <th>24</th>\n",
       "      <td>Hungarian</td>\n",
       "      <td>cuisine-hungarian</td>\n",
       "      <td>[en-US]</td>\n",
       "      <td>Hungarian</td>\n",
       "      <td>cuisine^cuisine-hungarian</td>\n",
       "      <td>cuisine</td>\n",
       "    </tr>\n",
       "    <tr>\n",
       "      <th>25</th>\n",
       "      <td>Portuguese</td>\n",
       "      <td>cuisine-portuguese</td>\n",
       "      <td>[en-US]</td>\n",
       "      <td>Portuguese</td>\n",
       "      <td>cuisine^cuisine-portuguese</td>\n",
       "      <td>cuisine</td>\n",
       "    </tr>\n",
       "  </tbody>\n",
       "</table>\n",
       "</div>"
      ],
      "text/plain": [
       "             description                     id localesAvailableIn  \\\n",
       "0               American       cuisine-american            [en-US]   \n",
       "1           Kid-Friendly   cuisine-kid-friendly            [en-US]   \n",
       "2                Italian        cuisine-italian            [en-US]   \n",
       "3                  Asian          cuisine-asian            [en-US]   \n",
       "4                Mexican        cuisine-mexican            [en-US]   \n",
       "5   Southern & Soul Food       cuisine-southern            [en-US]   \n",
       "6                 French         cuisine-french            [en-US]   \n",
       "7           Southwestern   cuisine-southwestern            [en-US]   \n",
       "8               Barbecue   cuisine-barbecue-bbq            [en-US]   \n",
       "9                 Indian         cuisine-indian            [en-US]   \n",
       "10               Chinese        cuisine-chinese            [en-US]   \n",
       "11        Cajun & Creole          cuisine-cajun            [en-US]   \n",
       "12         Mediterranean  cuisine-mediterranean            [en-US]   \n",
       "13                 Greek          cuisine-greek            [en-US]   \n",
       "14               English        cuisine-english            [en-US]   \n",
       "15               Spanish        cuisine-spanish            [en-US]   \n",
       "16                  Thai           cuisine-thai            [en-US]   \n",
       "17                German         cuisine-german            [en-US]   \n",
       "18              Moroccan       cuisine-moroccan            [en-US]   \n",
       "19                 Irish          cuisine-irish            [en-US]   \n",
       "20              Japanese       cuisine-japanese            [en-US]   \n",
       "21                 Cuban          cuisine-cuban            [en-US]   \n",
       "22              Hawaiian       cuisine-hawaiian            [en-US]   \n",
       "23               Swedish        cuisine-swedish            [en-US]   \n",
       "24             Hungarian      cuisine-hungarian            [en-US]   \n",
       "25            Portuguese     cuisine-portuguese            [en-US]   \n",
       "\n",
       "                    name                    searchValue     type  \n",
       "0               American       cuisine^cuisine-american  cuisine  \n",
       "1           Kid-Friendly   cuisine^cuisine-kid-friendly  cuisine  \n",
       "2                Italian        cuisine^cuisine-italian  cuisine  \n",
       "3                  Asian          cuisine^cuisine-asian  cuisine  \n",
       "4                Mexican        cuisine^cuisine-mexican  cuisine  \n",
       "5   Southern & Soul Food       cuisine^cuisine-southern  cuisine  \n",
       "6                 French         cuisine^cuisine-french  cuisine  \n",
       "7           Southwestern   cuisine^cuisine-southwestern  cuisine  \n",
       "8               Barbecue   cuisine^cuisine-barbecue-bbq  cuisine  \n",
       "9                 Indian         cuisine^cuisine-indian  cuisine  \n",
       "10               Chinese        cuisine^cuisine-chinese  cuisine  \n",
       "11        Cajun & Creole          cuisine^cuisine-cajun  cuisine  \n",
       "12         Mediterranean  cuisine^cuisine-mediterranean  cuisine  \n",
       "13                 Greek          cuisine^cuisine-greek  cuisine  \n",
       "14               English        cuisine^cuisine-english  cuisine  \n",
       "15               Spanish        cuisine^cuisine-spanish  cuisine  \n",
       "16                  Thai           cuisine^cuisine-thai  cuisine  \n",
       "17                German         cuisine^cuisine-german  cuisine  \n",
       "18              Moroccan       cuisine^cuisine-moroccan  cuisine  \n",
       "19                 Irish          cuisine^cuisine-irish  cuisine  \n",
       "20              Japanese       cuisine^cuisine-japanese  cuisine  \n",
       "21                 Cuban          cuisine^cuisine-cuban  cuisine  \n",
       "22              Hawaiian       cuisine^cuisine-hawaiian  cuisine  \n",
       "23               Swedish        cuisine^cuisine-swedish  cuisine  \n",
       "24             Hungarian      cuisine^cuisine-hungarian  cuisine  \n",
       "25            Portuguese     cuisine^cuisine-portuguese  cuisine  "
      ]
     },
     "execution_count": 117,
     "metadata": {},
     "output_type": "execute_result"
    }
   ],
   "source": [
    "cuisine_df.head(len(cuisine_df))"
   ]
  },
  {
   "cell_type": "code",
   "execution_count": 128,
   "metadata": {
    "collapsed": false
   },
   "outputs": [
    {
     "data": {
      "text/plain": [
       "u'cuisine^cuisine-american'"
      ]
     },
     "execution_count": 128,
     "metadata": {},
     "output_type": "execute_result"
    }
   ],
   "source": [
    "cuisine_df['searchValue'][cuisine_df['description'] == 'American'][0]"
   ]
  },
  {
   "cell_type": "code",
   "execution_count": 310,
   "metadata": {
    "collapsed": false
   },
   "outputs": [],
   "source": [
    "cuisine_id = cuisine_df['searchValue'].values.tolist()"
   ]
  },
  {
   "cell_type": "code",
   "execution_count": 311,
   "metadata": {
    "collapsed": false
   },
   "outputs": [
    {
     "data": {
      "text/plain": [
       "[u'cuisine^cuisine-american',\n",
       " u'cuisine^cuisine-kid-friendly',\n",
       " u'cuisine^cuisine-italian',\n",
       " u'cuisine^cuisine-asian',\n",
       " u'cuisine^cuisine-mexican',\n",
       " u'cuisine^cuisine-southern',\n",
       " u'cuisine^cuisine-french',\n",
       " u'cuisine^cuisine-southwestern',\n",
       " u'cuisine^cuisine-barbecue-bbq',\n",
       " u'cuisine^cuisine-indian',\n",
       " u'cuisine^cuisine-chinese',\n",
       " u'cuisine^cuisine-cajun',\n",
       " u'cuisine^cuisine-mediterranean',\n",
       " u'cuisine^cuisine-greek',\n",
       " u'cuisine^cuisine-english',\n",
       " u'cuisine^cuisine-spanish',\n",
       " u'cuisine^cuisine-thai',\n",
       " u'cuisine^cuisine-german',\n",
       " u'cuisine^cuisine-moroccan',\n",
       " u'cuisine^cuisine-irish',\n",
       " u'cuisine^cuisine-japanese',\n",
       " u'cuisine^cuisine-cuban',\n",
       " u'cuisine^cuisine-hawaiian',\n",
       " u'cuisine^cuisine-swedish',\n",
       " u'cuisine^cuisine-hungarian',\n",
       " u'cuisine^cuisine-portuguese']"
      ]
     },
     "execution_count": 311,
     "metadata": {},
     "output_type": "execute_result"
    }
   ],
   "source": [
    "cuisine_id"
   ]
  },
  {
   "cell_type": "code",
   "execution_count": 137,
   "metadata": {
    "collapsed": true
   },
   "outputs": [],
   "source": [
    "# Note: Working with cuisine ID column as this maps directly to the searchValue column by adding the suffix\n",
    "#       'cuisine^'"
   ]
  },
  {
   "cell_type": "code",
   "execution_count": 11,
   "metadata": {
    "collapsed": false,
    "deletable": true,
    "editable": true
   },
   "outputs": [],
   "source": [
    "#NOTE: Something weird with 'restriction' meta type -- need to check API docs\n",
    "\n",
    "#meta_dfs = ['']\n",
    "#\n",
    "#for i in range(1, 10):\n",
    "#    print metadata[i], len(meta[i])\n",
    "#    meta_dfs.append(pd.DataFrame(meta[i]))"
   ]
  },
  {
   "cell_type": "code",
   "execution_count": 12,
   "metadata": {
    "collapsed": false,
    "deletable": true,
    "editable": true
   },
   "outputs": [],
   "source": [
    "#print meta[2][0:2]"
   ]
  },
  {
   "cell_type": "code",
   "execution_count": 13,
   "metadata": {
    "collapsed": false,
    "deletable": true,
    "editable": true
   },
   "outputs": [],
   "source": [
    "#for i in range(1, 10):\n",
    "#    print str(i) + ': ' + metadata[i] + ' (' + str(len(meta[i])) + ') -----------------------------------------------'\n",
    "#    print meta_dfs[i].head(min(4, len(meta[i])))\n",
    "#    # print '--------------------------------------------------------------------'"
   ]
  },
  {
   "cell_type": "code",
   "execution_count": 14,
   "metadata": {
    "collapsed": false,
    "deletable": true,
    "editable": true
   },
   "outputs": [],
   "source": [
    "#type(ingredient_list)"
   ]
  },
  {
   "cell_type": "code",
   "execution_count": 15,
   "metadata": {
    "collapsed": false,
    "deletable": true,
    "editable": true
   },
   "outputs": [],
   "source": [
    "#ingredients = pd.DataFrame(ingredient_list)"
   ]
  },
  {
   "cell_type": "code",
   "execution_count": 16,
   "metadata": {
    "collapsed": false,
    "deletable": true,
    "editable": true
   },
   "outputs": [],
   "source": [
    "#metadata[metadata_rev['ingredient']]"
   ]
  },
  {
   "cell_type": "code",
   "execution_count": 17,
   "metadata": {
    "collapsed": false,
    "deletable": true,
    "editable": true
   },
   "outputs": [],
   "source": [
    "#ingredients.head(5)"
   ]
  },
  {
   "cell_type": "code",
   "execution_count": 18,
   "metadata": {
    "collapsed": false,
    "deletable": true,
    "editable": true
   },
   "outputs": [],
   "source": [
    "#diets = pd.DataFrame(diet_list)"
   ]
  },
  {
   "cell_type": "code",
   "execution_count": 138,
   "metadata": {
    "collapsed": false,
    "deletable": true,
    "editable": true
   },
   "outputs": [],
   "source": [
    "def search_yummly(query, cuisine_list, maxResult):\n",
    "\n",
    "    try:\n",
    "        search_params = {\n",
    "            'q': query,\n",
    "            'allowedCuisine': 'cuisine^' + cuisine_list,        # Need to generalise to multiple cuisines\n",
    "            'maxResult': maxResult\n",
    "        }\n",
    "\n",
    "        client = yummly.Client(api_id=API_ID, api_key=API_KEY, timeout=TIMEOUT, retries=RETRIES)\n",
    "\n",
    "        search_results = client.search(**search_params)\n",
    "\n",
    "        matches = search_results.matches[0]\n",
    "\n",
    "        recipe_list = []\n",
    "        for match in matches:\n",
    "            recipe = client.recipe(match.id)\n",
    "            recipe_list.append(recipe)\n",
    "\n",
    "    except:\n",
    "        pass\n",
    "    \n",
    "    return recipe_list"
   ]
  },
  {
   "cell_type": "code",
   "execution_count": 359,
   "metadata": {
    "collapsed": true
   },
   "outputs": [],
   "source": [
    "def get_number_of_recipes_for_cuisine(cuisine_id, allergens):\n",
    "    n_recipes = 0\n",
    "    try:\n",
    "        if allergens == '':\n",
    "            search_params = {\n",
    "                'q': '',\n",
    "                'allowedCuisine': cuisine_id\n",
    "            }\n",
    "        else:\n",
    "            search_params = {\n",
    "                'q': '',\n",
    "                'allowedCuisine': cuisine_id\n",
    "            }\n",
    "\n",
    "            allergen_list = []\n",
    "            for allergen in allergens.split(','):\n",
    "                allergen_list.append(allergen.lstrip().rstrip())\n",
    "            search_params['excludedIngredient'] = allergen_list\n",
    "\n",
    "        client = yummly.Client(api_id=API_ID, api_key=API_KEY, timeout=TIMEOUT, retries=RETRIES)\n",
    "        search_results = client.search(**search_params)\n",
    "        n_recipes = search_results.totalMatchCount\n",
    "\n",
    "    except Exception as e:\n",
    "        n_recipes = e.message            # error value\n",
    "        pass\n",
    "    \n",
    "    return n_recipes"
   ]
  },
  {
   "cell_type": "code",
   "execution_count": 300,
   "metadata": {
    "collapsed": false
   },
   "outputs": [
    {
     "data": {
      "text/plain": [
       "'http://api.yummly.com/v1/api/recipes'"
      ]
     },
     "execution_count": 300,
     "metadata": {},
     "output_type": "execute_result"
    }
   ],
   "source": [
    "client.URL_SEARCH"
   ]
  },
  {
   "cell_type": "code",
   "execution_count": 293,
   "metadata": {
    "collapsed": true
   },
   "outputs": [],
   "source": [
    "def test_create_search_params_excluded_ingred(cuisine_type, allergens):\n",
    "    search_params = {\n",
    "        'q': '',\n",
    "        'allowedCuisine': 'cuisine^' + cuisine_type\n",
    "    }\n",
    "\n",
    "    allergen_list = []\n",
    "    for allergen in allergens.split(','):\n",
    "          allergen_list.append(allergen.lstrip().rstrip())\n",
    "            \n",
    "    search_params['excludedIngredient'] = allergen_list\n",
    "    return search_params\n"
   ]
  },
  {
   "cell_type": "markdown",
   "metadata": {},
   "source": [
    "### Define Allergy profiles"
   ]
  },
  {
   "cell_type": "code",
   "execution_count": 393,
   "metadata": {
    "collapsed": true
   },
   "outputs": [],
   "source": [
    "allergy_profiles = [['milk'], ['egg'], ['peanut'], ['milk, egg'],\n",
    "                    ['milk, peanut'], ['egg, peanut'], ['egg, milk, peanut']] "
   ]
  },
  {
   "cell_type": "code",
   "execution_count": 398,
   "metadata": {
    "collapsed": true
   },
   "outputs": [],
   "source": [
    "# Example URL query\n",
    "\n",
    "# https://www.yummly.com/recipes?allowedCuisine=cuisine%5Ecuisine-american&excludedIngredient=egg&excludedIngredient=milk"
   ]
  },
  {
   "cell_type": "code",
   "execution_count": 399,
   "metadata": {
    "collapsed": true
   },
   "outputs": [],
   "source": [
    "# For each cuisine-type - A = query total #recipes and B = total #recipes without all allergen ingredients (in allergy profile)\n",
    "\n",
    "# Calculate allergy (quotient) index as B/A. If there are a lot of recipes in that cuisine type without allergens\n",
    "# then B is approximately equal to A and the quotient is close to 100% ( => allergy-friendly cuisine).\n",
    "\n",
    "# Similarly could calculate a 2nd metric where (for more than one allergen in profile) you drop one of the allergens \n",
    "# at a time from the allergy profile to see the change/impact. The Eat Map could toggle between STRICT and RELAXED mode.\n"
   ]
  },
  {
   "cell_type": "code",
   "execution_count": 400,
   "metadata": {
    "collapsed": false,
    "deletable": true,
    "editable": true
   },
   "outputs": [],
   "source": [
    "def calculate_cuisine_allergy_indices(allergy_profile, cuisine_list):\n",
    "    allergy_index = []\n",
    "    ignore_cuisine = ['cuisine^cuisine-kid-friendly',\n",
    "                      'cuisine^cuisine-southern',\n",
    "                      'cuisine^cuisine-southwestern',\n",
    "                      'cuisine^cuisine-barbecue-bbq',\n",
    "                      'cuisine^cuisine-cajun']\n",
    "    for cuisine in cuisine_list:\n",
    "        if cuisine not in ignore_cuisine:\n",
    "            # First query total number of recipes for the cuisine\n",
    "            print cuisine\n",
    "            n_recipes_total = get_number_of_recipes_for_cuisine(cuisine, allergens='')\n",
    "            print n_recipes_total\n",
    "            # Then query number of recipes without allergens\n",
    "            n_recipes_allowed = get_number_of_recipes_for_cuisine(cuisine, allergy_profile)\n",
    "            print n_recipes_allowed\n",
    "            allergy_index.append((cuisine, round(100.*float(n_recipes_allowed)/float(n_recipes_total), 2)))\n",
    "    \n",
    "    return allergy_index\n"
   ]
  },
  {
   "cell_type": "code",
   "execution_count": 403,
   "metadata": {
    "collapsed": false
   },
   "outputs": [
    {
     "data": {
      "text/plain": [
       "u'cuisine^cuisine-american'"
      ]
     },
     "execution_count": 403,
     "metadata": {},
     "output_type": "execute_result"
    }
   ],
   "source": [
    "cuisine_id[0]"
   ]
  },
  {
   "cell_type": "code",
   "execution_count": 404,
   "metadata": {
    "collapsed": false
   },
   "outputs": [
    {
     "name": "stdout",
     "output_type": "stream",
     "text": [
      "cuisine^cuisine-american\n",
      "12353\n",
      "6894\n"
     ]
    }
   ],
   "source": [
    "allergy_index = calculate_cuisine_allergy_indices(allergy_profiles[3][0], [cuisine_id[0]])\n",
    "#allergy_index = calculate_cuisine_allergy_indices('milk, egg', ['cuisine^cuisine-chinese'])"
   ]
  },
  {
   "cell_type": "code",
   "execution_count": 405,
   "metadata": {
    "collapsed": false
   },
   "outputs": [
    {
     "data": {
      "text/plain": [
       "[(u'cuisine^cuisine-american', 55.81)]"
      ]
     },
     "execution_count": 405,
     "metadata": {},
     "output_type": "execute_result"
    }
   ],
   "source": [
    "allergy_index"
   ]
  },
  {
   "cell_type": "markdown",
   "metadata": {},
   "source": [
    "### Recipe stuff (not currently used in app)"
   ]
  },
  {
   "cell_type": "code",
   "execution_count": 22,
   "metadata": {
    "collapsed": true,
    "deletable": true,
    "editable": true
   },
   "outputs": [],
   "source": [
    "recipe_df = pd.DataFrame(recipe_list)"
   ]
  },
  {
   "cell_type": "code",
   "execution_count": 23,
   "metadata": {
    "collapsed": false,
    "deletable": true,
    "editable": true
   },
   "outputs": [
    {
     "name": "stdout",
     "output_type": "stream",
     "text": [
      "<class 'pandas.core.frame.DataFrame'>\n",
      "Index: 0 entries\n",
      "Empty DataFrame"
     ]
    }
   ],
   "source": [
    "recipe_df.info()"
   ]
  },
  {
   "cell_type": "code",
   "execution_count": null,
   "metadata": {
    "collapsed": false,
    "deletable": true,
    "editable": true
   },
   "outputs": [],
   "source": [
    "# Start to look at recipes\n",
    "\n",
    "#results = client.search(query_str, maxResults=100000)\n",
    "\n",
    "results = client.search(**search_params)\n",
    "\n",
    "print 'Total Matches:', results.totalMatchCount\n",
    "\n",
    "#for match in results.matches:\n",
    "#        print 'Recipe ID:', match.id\n",
    "#        print 'Recipe:', match.recipeName\n",
    "#        print 'Rating:', match.rating\n",
    "#        # print 'Total Time (mins):' + match.TOTAL_TIME_MISSING / 60.0)\n",
    "#        print '----------------------------------------------------'"
   ]
  },
  {
   "cell_type": "code",
   "execution_count": null,
   "metadata": {
    "collapsed": false,
    "deletable": true,
    "editable": true
   },
   "outputs": [],
   "source": [
    "type(results.matches)"
   ]
  },
  {
   "cell_type": "code",
   "execution_count": null,
   "metadata": {
    "collapsed": false,
    "deletable": true,
    "editable": true
   },
   "outputs": [],
   "source": [
    "len(results.matches)"
   ]
  },
  {
   "cell_type": "code",
   "execution_count": null,
   "metadata": {
    "collapsed": false,
    "deletable": true,
    "editable": true
   },
   "outputs": [],
   "source": [
    "results.matches[0].id"
   ]
  },
  {
   "cell_type": "code",
   "execution_count": null,
   "metadata": {
    "collapsed": true,
    "deletable": true,
    "editable": true
   },
   "outputs": [],
   "source": [
    "from time import sleep"
   ]
  },
  {
   "cell_type": "code",
   "execution_count": null,
   "metadata": {
    "collapsed": false,
    "deletable": true,
    "editable": true
   },
   "outputs": [],
   "source": [
    "recipes = []\n",
    "for match in results.matches:    \n",
    "    this_recipe = []\n",
    "    recipe = client.recipe(match.id)\n",
    "    sleep(1.0)\n",
    "    for ingred in recipe.ingredientLines:\n",
    "        this_recipe.append(ingred)\n",
    "    recipes.append(this_recipe)"
   ]
  },
  {
   "cell_type": "code",
   "execution_count": null,
   "metadata": {
    "collapsed": false,
    "deletable": true,
    "editable": true
   },
   "outputs": [],
   "source": [
    "recipes_df = pd.DataFrame(recipes)"
   ]
  },
  {
   "cell_type": "code",
   "execution_count": null,
   "metadata": {
    "collapsed": false,
    "deletable": true,
    "editable": true
   },
   "outputs": [],
   "source": [
    "recipes_df.head(10)"
   ]
  },
  {
   "cell_type": "code",
   "execution_count": null,
   "metadata": {
    "collapsed": false,
    "deletable": true,
    "editable": true
   },
   "outputs": [],
   "source": [
    "recipes_df.info()"
   ]
  },
  {
   "cell_type": "code",
   "execution_count": null,
   "metadata": {
    "collapsed": false,
    "deletable": true,
    "editable": true
   },
   "outputs": [],
   "source": [
    "recipes_df.describe()"
   ]
  },
  {
   "cell_type": "code",
   "execution_count": null,
   "metadata": {
    "collapsed": true,
    "deletable": true,
    "editable": true
   },
   "outputs": [],
   "source": [
    "## Comment: need to standardise ingredients - see NYTimes approach\n",
    "# Probably can use spaCy\n",
    "# Will need to clean the text as part of this and have some sort of similarity measure for ingredients"
   ]
  },
  {
   "cell_type": "code",
   "execution_count": null,
   "metadata": {
    "collapsed": false,
    "deletable": true,
    "editable": true
   },
   "outputs": [],
   "source": [
    "type(recipes_df.iloc[0])"
   ]
  },
  {
   "cell_type": "markdown",
   "metadata": {},
   "source": [
    "### NLP ingredient standardisation (not currently used in app)"
   ]
  },
  {
   "cell_type": "code",
   "execution_count": null,
   "metadata": {
    "collapsed": true,
    "deletable": true,
    "editable": true
   },
   "outputs": [],
   "source": [
    "import spacy\n",
    "nlp = spacy.load('en')"
   ]
  },
  {
   "cell_type": "code",
   "execution_count": null,
   "metadata": {
    "collapsed": false,
    "deletable": true,
    "editable": true
   },
   "outputs": [],
   "source": [
    "def get_entity_and_type(textstr):\n",
    "    textstr = unicode(textstr)\n",
    "    doc = nlp(textstr)\n",
    "    out_list = []\n",
    "    for ent in doc.ents:\n",
    "        out_list.append((ent, ent.label_, ent.label, ent.orth_)) \n",
    "    return out_list\n",
    "\n",
    "\n",
    "# token.orth_, token.ent_type_ if token.ent_type_"
   ]
  },
  {
   "cell_type": "code",
   "execution_count": null,
   "metadata": {
    "collapsed": false,
    "deletable": true,
    "editable": true
   },
   "outputs": [],
   "source": [
    "# doc = nlp(u'London is a big city in the United Kingdom.')\n",
    "\n",
    "def standardise_recipe_ingredients(ingredient):\n",
    "    print ingredient\n",
    "    ingred_doc = nlp(ingredient)\n",
    "    for i, word in enumerate(ingredient.split(' ')):\n",
    "        print word, (ingred_doc[i].text, ingred_doc[i].ent_type_)\n",
    "        \n",
    "        #print ingred    #.text     #, ingred[0].ent_iob, ingred[0].ent_type_"
   ]
  },
  {
   "cell_type": "code",
   "execution_count": null,
   "metadata": {
    "collapsed": true,
    "deletable": true,
    "editable": true
   },
   "outputs": [],
   "source": [
    "example_ingred = recipes_df[0][2]"
   ]
  },
  {
   "cell_type": "code",
   "execution_count": null,
   "metadata": {
    "collapsed": false,
    "deletable": true,
    "editable": true
   },
   "outputs": [],
   "source": [
    "standardise_recipe_ingredients(example_ingred)"
   ]
  },
  {
   "cell_type": "code",
   "execution_count": null,
   "metadata": {
    "collapsed": true,
    "deletable": true,
    "editable": true
   },
   "outputs": [],
   "source": [
    "doc1 = nlp(recipes_df[0][2])"
   ]
  },
  {
   "cell_type": "code",
   "execution_count": null,
   "metadata": {
    "collapsed": false,
    "deletable": true,
    "editable": true
   },
   "outputs": [],
   "source": [
    "recipes_df[0][2]"
   ]
  },
  {
   "cell_type": "code",
   "execution_count": null,
   "metadata": {
    "collapsed": false,
    "deletable": true,
    "editable": true
   },
   "outputs": [],
   "source": [
    "doc = nlp(u'London is a big city in the United Kingdom.')\n",
    "len(doc)\n",
    "print(doc[0].text, doc[0].ent_iob, doc[0].ent_type_)\n",
    "# (u'London', 2, u'GPE')\n",
    "print(doc[1].text, doc[1].ent_iob, doc[1].ent_type_)\n",
    "# (u'is', 3, u'')\n"
   ]
  },
  {
   "cell_type": "code",
   "execution_count": null,
   "metadata": {
    "collapsed": false,
    "deletable": true,
    "editable": true
   },
   "outputs": [],
   "source": [
    "for word in doc1.sents.\n",
    "    print word"
   ]
  },
  {
   "cell_type": "code",
   "execution_count": null,
   "metadata": {
    "collapsed": false,
    "deletable": true,
    "editable": true
   },
   "outputs": [],
   "source": [
    "type(doc1)"
   ]
  },
  {
   "cell_type": "code",
   "execution_count": null,
   "metadata": {
    "collapsed": false,
    "deletable": true,
    "editable": true
   },
   "outputs": [],
   "source": [
    " for ent in doc1.ents:\n",
    "        for word in ent.sent:\n",
    "            print word"
   ]
  },
  {
   "cell_type": "code",
   "execution_count": null,
   "metadata": {
    "collapsed": false,
    "deletable": true,
    "editable": true
   },
   "outputs": [],
   "source": [
    "for chunk in doc1.noun_chunks:\n",
    "    print chunk"
   ]
  },
  {
   "cell_type": "code",
   "execution_count": null,
   "metadata": {
    "collapsed": false,
    "deletable": true,
    "editable": true
   },
   "outputs": [],
   "source": [
    "for i in range(0, 10):\n",
    "    print recipes_df[0][i]"
   ]
  },
  {
   "cell_type": "code",
   "execution_count": null,
   "metadata": {
    "collapsed": false,
    "deletable": true,
    "editable": true
   },
   "outputs": [],
   "source": [
    "recipes_df['spacy-ingreds'] = recipes_df[0].apply(lambda ingred : get_entity_and_type(ingred))"
   ]
  },
  {
   "cell_type": "code",
   "execution_count": null,
   "metadata": {
    "collapsed": false,
    "deletable": true,
    "editable": true
   },
   "outputs": [],
   "source": [
    "print recipes_df['spacy-ingreds'][0]\n",
    "print recipes_df[0][0]"
   ]
  },
  {
   "cell_type": "code",
   "execution_count": null,
   "metadata": {
    "collapsed": false,
    "deletable": true,
    "editable": true
   },
   "outputs": [],
   "source": [
    "recipes_df['spacy-ingreds'].head()"
   ]
  }
 ],
 "metadata": {
  "kernelspec": {
   "display_name": "Python 2",
   "language": "python",
   "name": "python2"
  },
  "language_info": {
   "codemirror_mode": {
    "name": "ipython",
    "version": 2
   },
   "file_extension": ".py",
   "mimetype": "text/x-python",
   "name": "python",
   "nbconvert_exporter": "python",
   "pygments_lexer": "ipython2",
   "version": "2.7.13"
  }
 },
 "nbformat": 4,
 "nbformat_minor": 0
}
